{
 "cells": [
  {
   "cell_type": "markdown",
   "metadata": {},
   "source": [
    "## Psychoinformatics - Week 1b (Exercises)\n",
    "by 李彥廷 (b08207008@ntu.edu.tw)"
   ]
  },
  {
   "cell_type": "markdown",
   "metadata": {},
   "source": [
    "## 1 Validating the findings about power poses (8 points)\n",
    "Do <a href=\"https://www.youtube.com/watch?v=Ks-_Mh1QhMc\">power poses</a> really work?\n",
    "Let's analyze the <a href=\"http://hpc.psy.ntu.edu.tw/info/01/keller2017.csv\">data</a> from:\n",
    "\n",
    "Keller, V. N., Johnson, D. J., & Harder, J. A. (2017). <a href=\"http://hpc.psy.ntu.edu.tw/info/01/KellerEtal2017.pdf\">\n",
    "Meeting your inner super (wo)man: are power poses effective when taught?</a> Comprehensive Results in Social Psychology, 2(1), 106-122.\n",
    "\n",
    "where<br>\n",
    "\n",
    "4 experimental conditions were AC (Aware-Constrictive), AE (Aware-Expansive), UC (Unaware-Constrictive), & UE (Unaware-Expansive)<br>\n",
    "<br>\n",
    "and<br>\n",
    "<br>\n",
    "3 dependent measures were body expansiveness, performance (in a job interview), & hireability scored by 4 independent raters."
   ]
  },
  {
   "cell_type": "markdown",
   "metadata": {},
   "source": [
    "Please modify the function analyze() to return 3 pandas dataframes in a list <b>[df1,df2,df3]</b> where <br><br>\n",
    "<b>df1</b>, derived from df, has only 13 columns of interest (cond, expansiveness1-4, performance1-4, hire1-4) and no missing values (2 points) ;<br><br>\n",
    "<b>df2</b>, derived from df1, has 4 columns that average expansiveness1-4 into \"expansiveness\", \"performance1-4\" into \"performance\", & hire1-4 into \"hire\" (df1 & df2 should have the same number of rows) (2 points) ; <br><br>\n",
    "<b>df3</b>, derived from df2, calculates the means of each dependent variable in each condition (2 points): <br>\n",
    "<img src=\"http://hpc.psy.ntu.edu.tw/info/01/01b_table.png\" width=30%>\n",
    "\n",
    "Finally, run a two-way ANOVA to see if there is any statistically significant result (2 point). See <a href=\"https://www.statology.org/two-way-anova-python/\">this page</a> for an example. "
   ]
  },
  {
   "cell_type": "code",
   "execution_count": 2,
   "metadata": {},
   "outputs": [],
   "source": [
    "import pandas as pd\n",
    "df=pd.read_csv(\"https://ceiba.ntu.edu.tw/course/4671ea/content/keller2017.csv\")"
   ]
  },
  {
   "cell_type": "code",
   "execution_count": 8,
   "metadata": {},
   "outputs": [],
   "source": [
    "# Please make changes ONLY here:\n",
    "def analyze():\n",
    "    # df1\n",
    "    df1 = df.iloc[:, [34,6,7,8,9,11,12,13,14,16,17,18,19]].dropna().reset_index(drop=True)\n",
    "\n",
    "    # df2\n",
    "    df2 = pd.DataFrame({\"cond\": df1['cond'],\n",
    "                        \"performance\": df1.iloc[:,1:5].mean(axis=1), \n",
    "                        \"hire\"         : df1.iloc[:,5:9].mean(axis=1),\n",
    "                        \"expansiveness\"  : df1.iloc[:,9:13].mean(axis=1)})\n",
    "    # df3\n",
    "    df3=df2.groupby('cond').mean()\n",
    "    return([df1,df2,df3])"
   ]
  },
  {
   "cell_type": "code",
   "execution_count": 9,
   "metadata": {
    "scrolled": true
   },
   "outputs": [
    {
     "name": "stdout",
     "output_type": "stream",
     "text": [
      "(194, 13) (194, 4)\n",
      "      performance      hire  expansiveness\n",
      "cond                                      \n",
      "AC       3.967391  1.853261       3.586957\n",
      "AE       3.460227  1.982955       3.607955\n",
      "UC       3.717593  1.916667       3.435185\n",
      "UE       3.765000  1.940000       3.685000\n"
     ]
    }
   ],
   "source": [
    "[df1,df2,df3]=analyze()\n",
    "print(df1.shape,df2.shape)\n",
    "print(df3)"
   ]
  },
  {
   "cell_type": "markdown",
   "metadata": {},
   "source": [
    " ## Perform the two-way ANOVA"
   ]
  },
  {
   "cell_type": "code",
   "execution_count": 10,
   "metadata": {},
   "outputs": [],
   "source": [
    "    \n",
    "import statsmodels.api as sm\n",
    "from statsmodels.formula.api import ols\n",
    "\n",
    "df2['if_aware'] = df2.loc[:,'cond'].str.slice(0,1).replace(['U','A'],['Unaware','Aware'])\n",
    "df2['if_expansive'] = df2.loc[:,'cond'].str.slice(1,2).replace(['C','E'],['Constrictive','Epansive'])"
   ]
  },
  {
   "cell_type": "markdown",
   "metadata": {},
   "source": [
    "### Performance as the dependant variable:"
   ]
  },
  {
   "cell_type": "code",
   "execution_count": 11,
   "metadata": {},
   "outputs": [
    {
     "data": {
      "text/html": [
       "<div>\n",
       "<style scoped>\n",
       "    .dataframe tbody tr th:only-of-type {\n",
       "        vertical-align: middle;\n",
       "    }\n",
       "\n",
       "    .dataframe tbody tr th {\n",
       "        vertical-align: top;\n",
       "    }\n",
       "\n",
       "    .dataframe thead th {\n",
       "        text-align: right;\n",
       "    }\n",
       "</style>\n",
       "<table border=\"1\" class=\"dataframe\">\n",
       "  <thead>\n",
       "    <tr style=\"text-align: right;\">\n",
       "      <th></th>\n",
       "      <th>sum_sq</th>\n",
       "      <th>df</th>\n",
       "      <th>F</th>\n",
       "      <th>PR(&gt;F)</th>\n",
       "    </tr>\n",
       "  </thead>\n",
       "  <tbody>\n",
       "    <tr>\n",
       "      <th>C(if_aware)</th>\n",
       "      <td>0.017850</td>\n",
       "      <td>1.0</td>\n",
       "      <td>0.012643</td>\n",
       "      <td>0.910593</td>\n",
       "    </tr>\n",
       "    <tr>\n",
       "      <th>C(if_expansive)</th>\n",
       "      <td>2.136746</td>\n",
       "      <td>1.0</td>\n",
       "      <td>1.513440</td>\n",
       "      <td>0.220136</td>\n",
       "    </tr>\n",
       "    <tr>\n",
       "      <th>C(if_aware):C(if_expansive)</th>\n",
       "      <td>3.706089</td>\n",
       "      <td>1.0</td>\n",
       "      <td>2.624992</td>\n",
       "      <td>0.106852</td>\n",
       "    </tr>\n",
       "    <tr>\n",
       "      <th>Residual</th>\n",
       "      <td>268.251022</td>\n",
       "      <td>190.0</td>\n",
       "      <td>NaN</td>\n",
       "      <td>NaN</td>\n",
       "    </tr>\n",
       "  </tbody>\n",
       "</table>\n",
       "</div>"
      ],
      "text/plain": [
       "                                 sum_sq     df         F    PR(>F)\n",
       "C(if_aware)                    0.017850    1.0  0.012643  0.910593\n",
       "C(if_expansive)                2.136746    1.0  1.513440  0.220136\n",
       "C(if_aware):C(if_expansive)    3.706089    1.0  2.624992  0.106852\n",
       "Residual                     268.251022  190.0       NaN       NaN"
      ]
     },
     "metadata": {},
     "output_type": "display_data"
    }
   ],
   "source": [
    "model1 = ols('performance ~ C(if_aware) + C(if_expansive) + C(if_aware):C(if_expansive)', data=df2).fit()\n",
    "display(sm.stats.anova_lm(model1, typ=2))"
   ]
  },
  {
   "cell_type": "markdown",
   "metadata": {},
   "source": [
    "### Hireability as the dependant variable:"
   ]
  },
  {
   "cell_type": "code",
   "execution_count": 12,
   "metadata": {},
   "outputs": [
    {
     "data": {
      "text/html": [
       "<div>\n",
       "<style scoped>\n",
       "    .dataframe tbody tr th:only-of-type {\n",
       "        vertical-align: middle;\n",
       "    }\n",
       "\n",
       "    .dataframe tbody tr th {\n",
       "        vertical-align: top;\n",
       "    }\n",
       "\n",
       "    .dataframe thead th {\n",
       "        text-align: right;\n",
       "    }\n",
       "</style>\n",
       "<table border=\"1\" class=\"dataframe\">\n",
       "  <thead>\n",
       "    <tr style=\"text-align: right;\">\n",
       "      <th></th>\n",
       "      <th>sum_sq</th>\n",
       "      <th>df</th>\n",
       "      <th>F</th>\n",
       "      <th>PR(&gt;F)</th>\n",
       "    </tr>\n",
       "  </thead>\n",
       "  <tbody>\n",
       "    <tr>\n",
       "      <th>C(if_aware)</th>\n",
       "      <td>0.006727</td>\n",
       "      <td>1.0</td>\n",
       "      <td>0.024257</td>\n",
       "      <td>0.876399</td>\n",
       "    </tr>\n",
       "    <tr>\n",
       "      <th>C(if_expansive)</th>\n",
       "      <td>0.256088</td>\n",
       "      <td>1.0</td>\n",
       "      <td>0.923421</td>\n",
       "      <td>0.337800</td>\n",
       "    </tr>\n",
       "    <tr>\n",
       "      <th>C(if_aware):C(if_expansive)</th>\n",
       "      <td>0.136320</td>\n",
       "      <td>1.0</td>\n",
       "      <td>0.491554</td>\n",
       "      <td>0.484093</td>\n",
       "    </tr>\n",
       "    <tr>\n",
       "      <th>Residual</th>\n",
       "      <td>52.691727</td>\n",
       "      <td>190.0</td>\n",
       "      <td>NaN</td>\n",
       "      <td>NaN</td>\n",
       "    </tr>\n",
       "  </tbody>\n",
       "</table>\n",
       "</div>"
      ],
      "text/plain": [
       "                                sum_sq     df         F    PR(>F)\n",
       "C(if_aware)                   0.006727    1.0  0.024257  0.876399\n",
       "C(if_expansive)               0.256088    1.0  0.923421  0.337800\n",
       "C(if_aware):C(if_expansive)   0.136320    1.0  0.491554  0.484093\n",
       "Residual                     52.691727  190.0       NaN       NaN"
      ]
     },
     "metadata": {},
     "output_type": "display_data"
    }
   ],
   "source": [
    "model2 = ols('hire ~ C(if_aware) + C(if_expansive) + C(if_aware):C(if_expansive)', data=df2).fit()\n",
    "display(sm.stats.anova_lm(model2, typ=2))"
   ]
  },
  {
   "cell_type": "markdown",
   "metadata": {},
   "source": [
    "### Expansiveness as the dependant variable:"
   ]
  },
  {
   "cell_type": "code",
   "execution_count": 7,
   "metadata": {},
   "outputs": [
    {
     "data": {
      "text/html": [
       "<div>\n",
       "<style scoped>\n",
       "    .dataframe tbody tr th:only-of-type {\n",
       "        vertical-align: middle;\n",
       "    }\n",
       "\n",
       "    .dataframe tbody tr th {\n",
       "        vertical-align: top;\n",
       "    }\n",
       "\n",
       "    .dataframe thead th {\n",
       "        text-align: right;\n",
       "    }\n",
       "</style>\n",
       "<table border=\"1\" class=\"dataframe\">\n",
       "  <thead>\n",
       "    <tr style=\"text-align: right;\">\n",
       "      <th></th>\n",
       "      <th>sum_sq</th>\n",
       "      <th>df</th>\n",
       "      <th>F</th>\n",
       "      <th>PR(&gt;F)</th>\n",
       "    </tr>\n",
       "  </thead>\n",
       "  <tbody>\n",
       "    <tr>\n",
       "      <th>C(if_aware)</th>\n",
       "      <td>0.080182</td>\n",
       "      <td>1.0</td>\n",
       "      <td>0.074288</td>\n",
       "      <td>0.785489</td>\n",
       "    </tr>\n",
       "    <tr>\n",
       "      <th>C(if_expansive)</th>\n",
       "      <td>0.999186</td>\n",
       "      <td>1.0</td>\n",
       "      <td>0.925730</td>\n",
       "      <td>0.337198</td>\n",
       "    </tr>\n",
       "    <tr>\n",
       "      <th>C(if_aware):C(if_expansive)</th>\n",
       "      <td>0.630923</td>\n",
       "      <td>1.0</td>\n",
       "      <td>0.584541</td>\n",
       "      <td>0.445487</td>\n",
       "    </tr>\n",
       "    <tr>\n",
       "      <th>Residual</th>\n",
       "      <td>205.076288</td>\n",
       "      <td>190.0</td>\n",
       "      <td>NaN</td>\n",
       "      <td>NaN</td>\n",
       "    </tr>\n",
       "  </tbody>\n",
       "</table>\n",
       "</div>"
      ],
      "text/plain": [
       "                                 sum_sq     df         F    PR(>F)\n",
       "C(if_aware)                    0.080182    1.0  0.074288  0.785489\n",
       "C(if_expansive)                0.999186    1.0  0.925730  0.337198\n",
       "C(if_aware):C(if_expansive)    0.630923    1.0  0.584541  0.445487\n",
       "Residual                     205.076288  190.0       NaN       NaN"
      ]
     },
     "metadata": {},
     "output_type": "display_data"
    }
   ],
   "source": [
    "model3 = ols('expansiveness ~ C(if_aware) + C(if_expansive) + C(if_aware):C(if_expansive)', data=df2).fit()\n",
    "display(sm.stats.anova_lm(model3, typ=2))"
   ]
  },
  {
   "cell_type": "markdown",
   "metadata": {},
   "source": [
    "### 結果"
   ]
  },
  {
   "cell_type": "markdown",
   "metadata": {},
   "source": [
    "上表為在兩個因素的不同水準之間，Performance、Hireability、Expansiveness三個依變項分別計算得出的 2 Way ANOVA table。\n",
    "可以看到對於三個依變項，Aware與否或是Expansive與否這兩個因素的主要效果皆無顯著，同時交互作用的主要效果也無顯著。\n",
    "由此可知，Power Poses和有沒有awareness對於這三種依變項都沒有什麼太大的影響\n",
    "因此可以推論：Power Poses可能並不存在。"
   ]
  },
  {
   "cell_type": "markdown",
   "metadata": {},
   "source": [
    "### Please export this file to HTML and submit it to NTU COOL before next Monday (2021/10/4)."
   ]
  }
 ],
 "metadata": {
  "interpreter": {
   "hash": "a2bd6d5c06d6c189489565e02a3674a38b05bee7f967879ab312c2c0bf062a04"
  },
  "kernelspec": {
   "display_name": "Python 3 (ipykernel)",
   "language": "python",
   "name": "python3"
  },
  "language_info": {
   "codemirror_mode": {
    "name": "ipython",
    "version": 3
   },
   "file_extension": ".py",
   "mimetype": "text/x-python",
   "name": "python",
   "nbconvert_exporter": "python",
   "pygments_lexer": "ipython3",
   "version": "3.9.5"
  },
  "varInspector": {
   "cols": {
    "lenName": 16,
    "lenType": 16,
    "lenVar": 40
   },
   "kernels_config": {
    "python": {
     "delete_cmd_postfix": "",
     "delete_cmd_prefix": "del ",
     "library": "var_list.py",
     "varRefreshCmd": "print(var_dic_list())"
    },
    "r": {
     "delete_cmd_postfix": ") ",
     "delete_cmd_prefix": "rm(",
     "library": "var_list.r",
     "varRefreshCmd": "cat(var_dic_list()) "
    }
   },
   "types_to_exclude": [
    "module",
    "function",
    "builtin_function_or_method",
    "instance",
    "_Feature"
   ],
   "window_display": false
  }
 },
 "nbformat": 4,
 "nbformat_minor": 2
}
