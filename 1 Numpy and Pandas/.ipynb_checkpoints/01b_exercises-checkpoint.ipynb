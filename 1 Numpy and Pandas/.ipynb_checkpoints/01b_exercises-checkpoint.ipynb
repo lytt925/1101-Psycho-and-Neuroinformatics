{
 "cells": [
  {
   "cell_type": "markdown",
   "metadata": {},
   "source": [
    "## Psychoinformatics - Week 1b (Exercises)\n",
    "by 李彥廷 (b08207008@ntu.edu.tw)"
   ]
  },
  {
   "cell_type": "markdown",
   "metadata": {},
   "source": [
    "## 1 Validating the findings about power poses (8 points)\n",
    "Do <a href=\"https://www.youtube.com/watch?v=Ks-_Mh1QhMc\">power poses</a> really work?\n",
    "Let's analyze the <a href=\"http://hpc.psy.ntu.edu.tw/info/01/keller2017.csv\">data</a> from:\n",
    "\n",
    "Keller, V. N., Johnson, D. J., & Harder, J. A. (2017). <a href=\"http://hpc.psy.ntu.edu.tw/info/01/KellerEtal2017.pdf\">\n",
    "Meeting your inner super (wo)man: are power poses effective when taught?</a> Comprehensive Results in Social Psychology, 2(1), 106-122.\n",
    "\n",
    "where<br>\n",
    "\n",
    "4 experimental conditions were AC (Aware-Constrictive), AE (Aware-Expansive), UC (Unaware-Constrictive), & UE (Unaware-Expansive)<br>\n",
    "<br>\n",
    "and<br>\n",
    "<br>\n",
    "3 dependent measures were body expansiveness, performance (in a job interview), & hireability scored by 4 independent raters."
   ]
  },
  {
   "cell_type": "markdown",
   "metadata": {},
   "source": [
    "Please modify the function analyze() to return 3 pandas dataframes in a list <b>[df1,df2,df3]</b> where <br><br>\n",
    "<b>df1</b>, derived from df, has only 13 columns of interest (cond, expansiveness1-4, performance1-4, hire1-4) and no missing values (2 points) ;<br><br>\n",
    "<b>df2</b>, derived from df1, has 4 columns that average expansiveness1-4 into \"expansiveness\", \"performance1-4\" into \"performance\", & hire1-4 into \"hire\" (df1 & df2 should have the same number of rows) (2 points) ; <br><br>\n",
    "<b>df3</b>, derived from df2, calculates the means of each dependent variable in each condition (2 points): <br>\n",
    "<img src=\"http://hpc.psy.ntu.edu.tw/info/01/01b_table.png\" width=30%>\n",
    "\n",
    "Finally, run a two-way ANOVA to see if there is any statistically significant result (2 point). See <a href=\"https://www.statology.org/two-way-anova-python/\">this page</a> for an example. "
   ]
  },
  {
   "cell_type": "code",
   "execution_count": 1,
   "metadata": {},
   "outputs": [],
   "source": [
    "import pandas as pd\n",
    "df=pd.read_csv(\"https://ceiba.ntu.edu.tw/course/4671ea/content/keller2017.csv\")"
   ]
  },
  {
   "cell_type": "code",
   "execution_count": 2,
   "metadata": {},
   "outputs": [],
   "source": [
    "# Please make changes ONLY here:\n",
    "def analyze():\n",
    "    # df1\n",
    "    df1 = df.iloc[:, [34,6,7,8,9,11,12,13,14,16,17,18,19]].dropna().reset_index(drop=True)\n",
    "\n",
    "    # df2\n",
    "    df2 = pd.DataFrame({\"cond\": df1['cond'],\n",
    "                        \"performance\": df1.iloc[:,1:5].mean(axis=1), \n",
    "                        \"hire\"         : df1.iloc[:,5:9].mean(axis=1),\n",
    "                        \"expansiveness\"  : df1.iloc[:,9:13].mean(axis=1)})\n",
    "    # df3\n",
    "    df3=df2.groupby('cond').mean()\n",
    "    return([df1,df2,df3])"
   ]
  },
  {
   "cell_type": "code",
   "execution_count": 3,
   "metadata": {
    "scrolled": true
   },
   "outputs": [
    {
     "name": "stdout",
     "output_type": "stream",
     "text": [
      "(194, 13) (194, 4)\n",
      "      performance      hire  expansiveness\n",
      "cond                                      \n",
      "AC       3.967391  1.853261       3.586957\n",
      "AE       3.460227  1.982955       3.607955\n",
      "UC       3.717593  1.916667       3.435185\n",
      "UE       3.765000  1.940000       3.685000\n"
     ]
    }
   ],
   "source": [
    "[df1,df2,df3]=analyze()\n",
    "print(df1.shape,df2.shape)\n",
    "print(df3)"
   ]
  },
  {
   "cell_type": "code",
   "execution_count": 9,
   "metadata": {},
   "outputs": [
    {
     "data": {
      "text/plain": [
       "0      UC\n",
       "1      UE\n",
       "2      UE\n",
       "3      AC\n",
       "4      UC\n",
       "       ..\n",
       "189    AE\n",
       "190    UC\n",
       "191    UC\n",
       "192    UE\n",
       "193    AE\n",
       "Name: cond, Length: 194, dtype: object"
      ]
     },
     "execution_count": 9,
     "metadata": {},
     "output_type": "execute_result"
    }
   ],
   "source": [
    " # Perform the two-way ANOVA\n",
    "    \n",
    "import statsmodels.api as sm\n",
    "from statsmodels.formula.api import ols\n",
    "\n",
    "for i in range(len(df2)):\n",
    "    if df2.loc[i,'cond'] == 'UC' or df2.loc[i,'cond'] == 'UE':\n",
    "        df2.loc[i,'if_aware'] = 'Unaware'\n",
    "    else:\n",
    "        df2.loc[i,'if_aware'] = 'Aware'\n",
    "    \n",
    "    if df2.loc[i,'cond'] == 'UE' or df2.loc[i,'cond'] == 'AE':\n",
    "        df2.loc[i,'if_expansive'] = 'Expansive'\n",
    "    else:\n",
    "        df2.loc[i,'if_expansive'] = 'Constrictive'\n",
    "        \n",
    "        \n",
    "model1 = ols('performance ~ C(if_aware) + C(if_expansive) + C(if_aware):C(if_expansive)', data=df2).fit()\n",
    "print(\"Performance as dependant variable:\")\n",
    "display(sm.stats.anova_lm(model1, typ=2))\n",
    "print()\n",
    "\n",
    "print(\"Hireability as dependant variable:\")\n",
    "model2 = ols('hire ~ C(if_aware) + C(if_expansive) + C(if_aware):C(if_expansive)', data=df2).fit()\n",
    "display(sm.stats.anova_lm(model2, typ=2))\n",
    "print()\n",
    "\n",
    "print(\"Expansiveness as dependant variable:\")\n",
    "model3 = ols('expansiveness ~ C(if_aware) + C(if_expansive) + C(if_aware):C(if_expansive)', data=df2).fit()\n",
    "display(sm.stats.anova_lm(model3, typ=2))"
   ]
  },
  {
   "cell_type": "markdown",
   "metadata": {},
   "source": [
    "上表為在兩個因素的不同水準之間，Performance、Hireability、Expansiveness三個依變項分別計算得出的 2 Way ANOVA table。\n",
    "可以看到對於三個依變項，Aware與否或是Expansive與否這兩個因素的主要效果皆無顯著，同時交互作用的主要效果也無顯著。\n",
    "\n",
    "因此我們可以推論：Power Poses可能並不存在。\n",
    "\n"
   ]
  },
  {
   "cell_type": "markdown",
   "metadata": {},
   "source": [
    "### Please export this file to HTML and submit it to NTU COOL before next Monday (2021/10/4)."
   ]
  }
 ],
 "metadata": {
  "interpreter": {
   "hash": "a2bd6d5c06d6c189489565e02a3674a38b05bee7f967879ab312c2c0bf062a04"
  },
  "kernelspec": {
   "display_name": "Python 3 (ipykernel)",
   "language": "python",
   "name": "python3"
  },
  "language_info": {
   "codemirror_mode": {
    "name": "ipython",
    "version": 3
   },
   "file_extension": ".py",
   "mimetype": "text/x-python",
   "name": "python",
   "nbconvert_exporter": "python",
   "pygments_lexer": "ipython3",
   "version": "3.8.5"
  }
 },
 "nbformat": 4,
 "nbformat_minor": 2
}
