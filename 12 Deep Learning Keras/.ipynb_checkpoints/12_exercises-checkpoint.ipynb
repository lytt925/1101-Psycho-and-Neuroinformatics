{
 "cells": [
  {
   "cell_type": "markdown",
   "metadata": {
    "id": "XKmzR_wg7igq"
   },
   "source": [
    "# Psychoinformatics - Week 12 (Exercises)\n",
    "by 李彥廷 (b08207008@ntu.edu.tw)"
   ]
  },
  {
   "cell_type": "code",
   "execution_count": null,
   "metadata": {
    "id": "X9_TZZHg7igs",
    "scrolled": true
   },
   "outputs": [],
   "source": [
    "%config IPCompleter.greedy=True \n",
    "%matplotlib inline\n",
    "\n",
    "from numpy import *\n",
    "from matplotlib.pyplot import *\n",
    "from IPython.display import *\n",
    "import warnings\n",
    "warnings.simplefilter('ignore', DeprecationWarning)\n",
    "from sklearn import *\n",
    "\n",
    "iris = datasets.load_iris()\n",
    "X=iris.data; Y=iris.target"
   ]
  },
  {
   "cell_type": "markdown",
   "metadata": {
    "id": "g2ntEGvU7igt"
   },
   "source": [
    "## 1 Performance Tuning of a Neural Net (8 points)"
   ]
  },
  {
   "cell_type": "markdown",
   "metadata": {
    "id": "IQ2QxFiF7igu"
   },
   "source": [
    "### 1.0 Baseline Performance\n",
    "SVM can reach an classifcation accuracy ~ 8x% correct for the hard Iris problem."
   ]
  },
  {
   "cell_type": "code",
   "execution_count": null,
   "metadata": {
    "id": "l0cJ_dxn7igu"
   },
   "outputs": [],
   "source": [
    "sss=model_selection.StratifiedShuffleSplit(n_splits=5,test_size=0.1) # (45+45+45) vs. (5+5+5)\n",
    "model=svm.SVC(C=10)\n",
    "acc=[]\n",
    "Y_test_all=[]\n",
    "pred_all=[]\n",
    "for train_index, test_index in sss.split(X, Y): # 5-fold cross-validation\n",
    "    X_train, X_test = X[train_index], X[test_index]\n",
    "    Y_train, Y_test = Y[train_index], Y[test_index]\n",
    "    model.fit(X_train[:,0:2],Y_train) #training\n",
    "    pred = model.predict(X_test[:,0:2])\n",
    "    acc.append(pred==Y_test) # testing\n",
    "    Y_test_all.extend(Y_test)\n",
    "    pred_all.extend(pred)\n",
    "print(np.mean(acc))\n",
    "print(metrics.confusion_matrix(Y_test_all,pred_all))"
   ]
  },
  {
   "cell_type": "markdown",
   "metadata": {
    "id": "MxN_lu0Y7igv"
   },
   "source": [
    "### 1.1 Tuning your ANN (4 points)\n",
    "Tune your model hyperparameters (# of layers, # of units in each layer, activation function, optimizer, epochs, batch_size, etc.) to see if you can push your ANN performance up to ~9x% correct."
   ]
  },
  {
   "cell_type": "code",
   "execution_count": null,
   "metadata": {
    "id": "opQH3FBU7igv"
   },
   "outputs": [],
   "source": [
    "from keras.models import Sequential\n",
    "from keras.layers import Dense\n",
    "from tensorflow.keras.utils import to_categorical\n",
    "from hyperopt import fmin, tpe, rand, hp"
   ]
  },
  {
   "cell_type": "code",
   "execution_count": null,
   "metadata": {},
   "outputs": [],
   "source": [
    "\n",
    "def F(hp):\n",
    "    \n",
    "    model = Sequential()\n",
    "    model.add(Dense(hp['hp1'],input_shape=(2,), activation='sigmoid'))\n",
    "    model.add(Dense(hp['hp2'], activation='relu'))\n",
    "    model.add(Dense(3, activation='softmax'))\n",
    "    model.compile(loss='categorical_crossentropy',optimizer='adam',metrics=['accuracy'])\n",
    "\n",
    "\n",
    "    acc=[]\n",
    "    for train_index, test_index in sss.split(X, Y): # 5-fold cross-validation\n",
    "        X_train, X_test = X[train_index], X[test_index]\n",
    "        Y_train, Y_test = Y[train_index], Y[test_index]\n",
    "        model.fit(X_train[:,0:2], to_categorical(Y_train), epochs=50, batch_size=15)\n",
    "        acc.append(argmax(model.predict(X_test[:,0:2]),1)==Y_test) # testing\n",
    "    return 1-np.mean(acc)\n",
    "\n",
    "t0=time.time()\n",
    "best_x = fmin(fn=F,\n",
    "    space={'hp1':hp.randint('hp1', 0, 20),'hp2':hp.randint('hp2',0,20)},\n",
    "    algo=tpe.suggest, # try rand.suggest\n",
    "    max_evals=100)\n",
    "print('Search Time:',time.time()-t0)\n",
    "print(best_x)"
   ]
  },
  {
   "cell_type": "code",
   "execution_count": null,
   "metadata": {
    "scrolled": true
   },
   "outputs": [],
   "source": [
    "model = Sequential()\n",
    "model.add(Dense(10,input_shape=(2,), activation='sigmoid'))\n",
    "model.add(Dense(10, activation='relu'))\n",
    "model.add(Dense(3, activation='softmax'))\n",
    "model.compile(loss='categorical_crossentropy',optimizer='adam',metrics=['accuracy'])\n",
    "\n",
    "acc=[]\n",
    "Y_test_all=[]\n",
    "pred_all=[]\n",
    "for train_index, test_index in sss.split(X, Y): # 5-fold cross-validation\n",
    "    X_train, X_test = X[train_index], X[test_index]\n",
    "    Y_train, Y_test = Y[train_index], Y[test_index]\n",
    "    model.fit(X_train[:,0:2], to_categorical(Y_train), epochs=100, batch_size=5)\n",
    "    pred = argmax(model.predict(X_test[:,0:2]),1)\n",
    "    acc.append(pred==Y_test) # testing\n",
    "    Y_test_all.extend(Y_test)\n",
    "    pred_all.extend(pred)\n",
    "print(np.mean(acc))\n",
    "print(metrics.confusion_matrix(Y_test_all,pred_all))"
   ]
  },
  {
   "cell_type": "markdown",
   "metadata": {
    "id": "zn2YBX-J7igx"
   },
   "source": [
    "### 1.2 Is your (deep) network better than SVM? Why or why not? (4 points)"
   ]
  },
  {
   "cell_type": "markdown",
   "metadata": {
    "id": "IzM2M01x7igx"
   },
   "source": [
    "只有差不多好而已。即使使用了hyperopt來做hyperparameter tuning和反覆測試不同參數之後結果都不太理想。\n",
    "\n",
    "我認為結果不佳的原因是只用了兩個feature，因為資訊量太少所以比較難獲得較好的結果。在這個例子裡面的input有兩個feature但output是三種，這些特徵可能難以區分出三種類別。另外特徵的特性也會影響模型的建立，若特徵本身就不是很有代表性也有可能導致效果不好，可能只達到某個極限就很難提升。若將上面的模型改成使用petal兩個特徵，馬上就可以變成0.97左右的正確率了。從圖中也可以看到sepal的數值綠色和藍色的都混在一起，若將上面的testing結果以confusion matrix表示也可以看到在第二和第三種的分辨正確率不佳。因此提升特徵的數量或是改變特徵的選取會更容易區分做到高正確率。\n",
    "\n",
    "<img src=\"https://upload.wikimedia.org/wikipedia/commons/5/56/Iris_dataset_scatterplot.svg\" width=40%>\n",
    "\n",
    "\n",
    "\n"
   ]
  },
  {
   "cell_type": "code",
   "execution_count": null,
   "metadata": {},
   "outputs": [],
   "source": []
  }
 ],
 "metadata": {
  "colab": {
   "collapsed_sections": [],
   "name": "12_exercises.ipynb",
   "provenance": []
  },
  "kernelspec": {
   "display_name": "PsychoInformatics",
   "language": "python",
   "name": "psychoinformatics"
  },
  "language_info": {
   "codemirror_mode": {
    "name": "ipython",
    "version": 3
   },
   "file_extension": ".py",
   "mimetype": "text/x-python",
   "name": "python",
   "nbconvert_exporter": "python",
   "pygments_lexer": "ipython3",
   "version": "3.9.7"
  }
 },
 "nbformat": 4,
 "nbformat_minor": 1
}
