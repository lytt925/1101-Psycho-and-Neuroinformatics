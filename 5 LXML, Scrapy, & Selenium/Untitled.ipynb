{
 "cells": [
  {
   "cell_type": "code",
   "execution_count": null,
   "id": "b92905c6",
   "metadata": {},
   "outputs": [],
   "source": [
    "import urllib, lxml.html"
   ]
  },
  {
   "cell_type": "code",
   "execution_count": null,
   "id": "4e296d69",
   "metadata": {},
   "outputs": [],
   "source": []
  },
  {
   "cell_type": "code",
   "execution_count": 34,
   "id": "14de6bfb",
   "metadata": {},
   "outputs": [],
   "source": [
    "URL='http://www.ptt.cc'\n",
    "URN='/bbs/Boy-Girl/'\n",
    "h={'User-Agent':'Mozilla/5.0'}\n",
    "r=urllib.request.Request(URL+URN,headers=h)\n",
    "data=urllib.request.urlopen(r).read()"
   ]
  },
  {
   "cell_type": "code",
   "execution_count": 49,
   "id": "138a4406",
   "metadata": {},
   "outputs": [
    {
     "name": "stdout",
     "output_type": "stream",
     "text": [
      "/bbs/Boy-Girl/index5525.html\n"
     ]
    }
   ],
   "source": [
    "t=lxml.html.fromstring(data.decode('utf-8')) \n",
    "# print(data.decode('utf-8'))\n",
    "x=t.xpath('//a[@class=\"btn wide\"]') # 找到a裡面有class是\"btn wide\"的部分\n",
    "for text in x:\n",
    "    if text.xpath('text()')[0] == '‹ 上頁':\n",
    "        href = text.xpath(\"@href\")[0]\n",
    "\n",
    "print(href)"
   ]
  },
  {
   "cell_type": "code",
   "execution_count": 55,
   "id": "420d0a1a",
   "metadata": {},
   "outputs": [
    {
     "name": "stdout",
     "output_type": "stream",
     "text": [
      "5526\n"
     ]
    }
   ],
   "source": [
    "startIndex = href.find('index') + 5\n",
    "endIndex = href.find('.html')\n",
    "newestPage = int(href[startIndex:endIndex]) + 1\n",
    "print(newestPage)"
   ]
  },
  {
   "cell_type": "code",
   "execution_count": null,
   "id": "91eced1c",
   "metadata": {},
   "outputs": [],
   "source": []
  }
 ],
 "metadata": {
  "kernelspec": {
   "display_name": "Python 3 (ipykernel)",
   "language": "python",
   "name": "python3"
  },
  "language_info": {
   "codemirror_mode": {
    "name": "ipython",
    "version": 3
   },
   "file_extension": ".py",
   "mimetype": "text/x-python",
   "name": "python",
   "nbconvert_exporter": "python",
   "pygments_lexer": "ipython3",
   "version": "3.9.5"
  },
  "varInspector": {
   "cols": {
    "lenName": 16,
    "lenType": 16,
    "lenVar": 40
   },
   "kernels_config": {
    "python": {
     "delete_cmd_postfix": "",
     "delete_cmd_prefix": "del ",
     "library": "var_list.py",
     "varRefreshCmd": "print(var_dic_list())"
    },
    "r": {
     "delete_cmd_postfix": ") ",
     "delete_cmd_prefix": "rm(",
     "library": "var_list.r",
     "varRefreshCmd": "cat(var_dic_list()) "
    }
   },
   "types_to_exclude": [
    "module",
    "function",
    "builtin_function_or_method",
    "instance",
    "_Feature"
   ],
   "window_display": false
  }
 },
 "nbformat": 4,
 "nbformat_minor": 5
}
