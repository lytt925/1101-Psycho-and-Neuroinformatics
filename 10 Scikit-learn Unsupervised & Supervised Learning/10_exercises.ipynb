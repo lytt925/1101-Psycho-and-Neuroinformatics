{
 "cells": [
  {
   "cell_type": "markdown",
   "metadata": {},
   "source": [
    "# Psychoinformatics - Week 10 (Exercises)\n",
    "by 李彥廷 (b08207008@ntu.edu.tw)"
   ]
  },
  {
   "cell_type": "code",
   "execution_count": 1,
   "metadata": {},
   "outputs": [],
   "source": [
    "import numpy as np\n",
    "from scipy import stats\n",
    "from sklearn import *\n",
    "from sklearn import model_selection\n",
    "from matplotlib.pyplot import *\n",
    "%matplotlib inline"
   ]
  },
  {
   "cell_type": "markdown",
   "metadata": {},
   "source": [
    "## 1 檢查 machine learning pipeline (8 points)"
   ]
  },
  {
   "cell_type": "markdown",
   "metadata": {},
   "source": [
    "### 1.1 請打亂原本的Y觀察正確率是否和chance level (0.33)有差異? 若有, why? (4 points)"
   ]
  },
  {
   "cell_type": "code",
   "execution_count": 2,
   "metadata": {},
   "outputs": [
    {
     "name": "stdout",
     "output_type": "stream",
     "text": [
      "0.5733333333333334\n",
      "[[33 10  7]\n",
      " [13 29  8]\n",
      " [13 13 24]]\n"
     ]
    }
   ],
   "source": [
    "# 本題在研究打亂X和打亂Y有差別嗎?\n",
    "iris = datasets.load_iris()\n",
    "X=iris.data\n",
    "Y=iris.target\n",
    "np.random.shuffle(Y) # 把Y打亂\n",
    "#print(Y)\n",
    "clf=neighbors.KNeighborsClassifier(4)\n",
    "clf.fit(X,Y)\n",
    "pred=clf.predict(X)\n",
    "accuracy=np.mean(pred==Y)\n",
    "print(accuracy)\n",
    "print(metrics.confusion_matrix(Y,pred))"
   ]
  },
  {
   "cell_type": "markdown",
   "metadata": {},
   "source": [
    "打亂Y和打亂X是一樣的，都是讓X跟Y沒有關係，因此我們會期待這個模型的準確度是和chance level (0.33)差不多的。\n",
    "在打亂Y之後，可以看到正確率還是高於.33，這是因為在training和testing的是同一筆資料，因此正確率會比較高。\n",
    "若將資料分成兩份，一份拿來train，一份拿來test，會發現正確率屬chance level的範圍。"
   ]
  },
  {
   "cell_type": "code",
   "execution_count": 3,
   "metadata": {},
   "outputs": [
    {
     "name": "stdout",
     "output_type": "stream",
     "text": [
      "0.26666666666666666\n",
      "[[16  2  3]\n",
      " [23  3  1]\n",
      " [24  2  1]]\n"
     ]
    }
   ],
   "source": [
    "clf.fit(X[0:75],Y[0:75]) # 用前半部來train\n",
    "pred=clf.predict(X[75:150]) # 用後半部來test\n",
    "print(np.mean(pred==Y[75:150]))\n",
    "print(metrics.confusion_matrix(Y[75:150],pred))"
   ]
  },
  {
   "cell_type": "markdown",
   "metadata": {},
   "source": [
    "因此要使用cross-validation的方式來檢查pipeline會比較好。"
   ]
  },
  {
   "cell_type": "code",
   "execution_count": 4,
   "metadata": {},
   "outputs": [
    {
     "name": "stdout",
     "output_type": "stream",
     "text": [
      "0.31333333333333335\n"
     ]
    }
   ],
   "source": [
    "kf=model_selection.KFold(10,shuffle=True)\n",
    "sc=model_selection.cross_val_score(clf,X,Y,cv=kf)\n",
    "print(sc.mean())"
   ]
  },
  {
   "cell_type": "markdown",
   "metadata": {},
   "source": [
    "### 1.2 請用母數或無母數統計檢定以下accuracies中的結果是否和chance level (0.5)有差異? 若有, why? (4 points)"
   ]
  },
  {
   "cell_type": "code",
   "execution_count": 5,
   "metadata": {},
   "outputs": [
    {
     "name": "stdout",
     "output_type": "stream",
     "text": [
      "[0 1 0 1 0 1 0 1 0 1 0 1 0 1 0 1 0 1 0 1 0 1 0 1 0 1 0 1 0 1 0 1 0 1 0 1 0\n",
      " 1 0 1 0 1 0 1 0 1 0 1 0 1 0 1 0 1 0 1 0 1 0 1 0 1 0 1 0 1 0 1 0 1 0 1 0 1\n",
      " 0 1 0 1 0 1 0 1 0 1 0 1 0 1 0 1 0 1 0 1 0 1 0 1 0 1 0 1 0 1 0 1 0 1 0 1 0\n",
      " 1 0 1 0 1 0 1 0 1 0 1 0 1 0 1 0 1 0 1 0 1 0 1 0 1 0 1 0 1 0 1 0 1 0 1 0 1\n",
      " 0 1 0 1 0 1 0 1 0 1 0 1 0 1 0 1 0 1 0 1 0 1 0 1 0 1 0 1 0 1 0 1 0 1 0 1 0\n",
      " 1 0 1 0 1 0 1 0 1 0 1 0 1 0 1]\n"
     ]
    }
   ],
   "source": [
    "Y=np.remainder(range(200),2) \n",
    "print(Y) #Y的0和1個數一樣多"
   ]
  },
  {
   "cell_type": "code",
   "execution_count": 6,
   "metadata": {},
   "outputs": [],
   "source": [
    "# 跑一百次測試:\n",
    "clf = svm.SVC()\n",
    "accuracies = []\n",
    "for i in range(100):\n",
    "    X = np.random.rand(200, 2)  # X取亂數\n",
    "    # Leave-one-out cross-validation\n",
    "    kf = model_selection.KFold(len(Y), shuffle=True)\n",
    "    sc = model_selection.cross_val_score(clf, X, Y, cv=kf)\n",
    "    accuracies.append(sc.mean())"
   ]
  },
  {
   "cell_type": "code",
   "execution_count": 7,
   "metadata": {},
   "outputs": [
    {
     "name": "stdout",
     "output_type": "stream",
     "text": [
      "[0.535, 0.605, 0.535, 0.58, 0.48, 0.47, 0.555, 0.51, 0.51, 0.47, 0.45, 0.38, 0.455, 0.51, 0.5, 0.56, 0.44, 0.515, 0.44, 0.415, 0.53, 0.47, 0.51, 0.465, 0.52, 0.535, 0.545, 0.56, 0.4, 0.565, 0.51, 0.41, 0.625, 0.485, 0.305, 0.45, 0.55, 0.47, 0.505, 0.325, 0.545, 0.46, 0.43, 0.47, 0.585, 0.505, 0.5, 0.57, 0.42, 0.54, 0.495, 0.475, 0.56, 0.545, 0.52, 0.45, 0.48, 0.505, 0.495, 0.49, 0.43, 0.455, 0.425, 0.5, 0.54, 0.465, 0.505, 0.44, 0.4, 0.43, 0.46, 0.43, 0.4, 0.515, 0.41, 0.45, 0.41, 0.425, 0.515, 0.53, 0.46, 0.415, 0.52, 0.505, 0.405, 0.46, 0.515, 0.455, 0.515, 0.455, 0.495, 0.47, 0.48, 0.525, 0.315, 0.555, 0.465, 0.47, 0.41, 0.45]\n"
     ]
    },
    {
     "data": {
      "image/png": "[encoded data removed]",
      "text/plain": [
       "<Figure size 432x288 with 1 Axes>"
      ]
     },
     "metadata": {
      "needs_background": "light"
     },
     "output_type": "display_data"
    },
    {
     "name": "stdout",
     "output_type": "stream",
     "text": [
      "0.18849456310272217\n"
     ]
    }
   ],
   "source": [
    "# Please do your statistical tests here:\n",
    "print(accuracies)\n",
    "show(matplotlib.pyplot.hist(accuracies))\n",
    "statistics,pvalue=stats.shapiro(accuracies)\n",
    "print(pvalue)"
   ]
  },
  {
   "cell_type": "markdown",
   "metadata": {
    "variables": {
     "pvalue": "0.18849456310272217"
    }
   },
   "source": [
    "利用Shapiro-Wilk test來檢驗accuracies的分布是否為常態，虛無假設為資料是從常態分布抽出。\n",
    "由於p-value=0.18849456310272217，所以接受虛無假設。"
   ]
  },
  {
   "cell_type": "code",
   "execution_count": 23,
   "metadata": {},
   "outputs": [
    {
     "name": "stdout",
     "output_type": "stream",
     "text": [
      "statistics:  -3.1138593555745895\n",
      "pvalue:  0.0024149309618001083\n"
     ]
    }
   ],
   "source": [
    "ttest_statistics,ttest_pvalue=stats.ttest_1samp(accuracies,0.50)\n",
    "print('statistics: ',ttest_statistics)\n",
    "print('pvalue: ',ttest_pvalue)"
   ]
  },
  {
   "cell_type": "markdown",
   "metadata": {
    "variables": {
     "ttest_pvalue": "0.0024149309618001083"
    }
   },
   "source": [
    "可以看到pvalue約為0.0024，所以拒絕母體平均為0.5的假設。雖然拒絕了期望值為0.5的虛無假設，但若把虛無假設改為0.49的話會接受虛無假設，我認為這個微小的差異應該是來自於機器學習的演算法或是cross-validation的機制造成的，讓這個正確率的分布較為不同，但大致上來說正確率還是在chance level。"
   ]
  },
  {
   "cell_type": "markdown",
   "metadata": {},
   "source": [
    "### Please submit your HTML notebook before next Monday (12/6)."
   ]
  },
  {
   "cell_type": "markdown",
   "metadata": {},
   "source": [
    "<h1><font color=red>下週一(12/6)沒有直播! 課程錄影在NTU COOL上面!</font></h1>"
   ]
  }
 ],
 "metadata": {
  "kernelspec": {
   "display_name": "Python 3 (ipykernel)",
   "language": "python",
   "name": "python3"
  },
  "language_info": {
   "codemirror_mode": {
    "name": "ipython",
    "version": 3
   },
   "file_extension": ".py",
   "mimetype": "text/x-python",
   "name": "python",
   "nbconvert_exporter": "python",
   "pygments_lexer": "ipython3",
   "version": "3.9.5"
  },
  "toc": {
   "base_numbering": 1,
   "nav_menu": {},
   "number_sections": false,
   "sideBar": false,
   "skip_h1_title": false,
   "title_cell": "Table of Contents",
   "title_sidebar": "Contents",
   "toc_cell": false,
   "toc_position": {},
   "toc_section_display": true,
   "toc_window_display": false
  },
  "varInspector": {
   "cols": {
    "lenName": 16,
    "lenType": 16,
    "lenVar": 40
   },
   "kernels_config": {
    "python": {
     "delete_cmd_postfix": "",
     "delete_cmd_prefix": "del ",
     "library": "var_list.py",
     "varRefreshCmd": "print(var_dic_list())"
    },
    "r": {
     "delete_cmd_postfix": ") ",
     "delete_cmd_prefix": "rm(",
     "library": "var_list.r",
     "varRefreshCmd": "cat(var_dic_list()) "
    }
   },
   "types_to_exclude": [
    "module",
    "function",
    "builtin_function_or_method",
    "instance",
    "_Feature"
   ],
   "window_display": false
  }
 },
 "nbformat": 4,
 "nbformat_minor": 2
}
