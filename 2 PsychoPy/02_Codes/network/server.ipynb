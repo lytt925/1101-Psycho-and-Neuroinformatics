{
 "cells": [
  {
   "cell_type": "code",
   "execution_count": 1,
   "metadata": {},
   "outputs": [
    {
     "name": "stdout",
     "output_type": "stream",
     "text": [
      "Client:  0 ('127.0.0.1', 59946)\n",
      "Hello from client!\n",
      "Client:  1 ('127.0.0.1', 53133)\n",
      "Hello from client!\n",
      "Client:  2 ('127.0.0.1', 53134)\n",
      "Hello from client!\n"
     ]
    }
   ],
   "source": [
    "import socket\n",
    "code='utf-8'\n",
    "s=socket.socket(socket.AF_INET,socket.SOCK_STREAM)\n",
    "s.setsockopt(socket.SOL_SOCKET,socket.SO_REUSEADDR,1)\n",
    "s.bind(('localhost', 1234)) # Srvr IP=localhost, port =1234\n",
    "s.listen(1) # max number of clients\n",
    "s.settimeout(60) # max waiting time=60s\n",
    "for i in range(3):\n",
    "    (c,adr)=s.accept(); print('Client: ',i,adr)\n",
    "    msg=c.recv(1024) # up to 1024 bytes\n",
    "    print(msg.decode(code))\n",
    "    c.sendall((str(i)+' from server!').encode(code))\n",
    "s.close()"
   ]
  }
 ],
 "metadata": {
  "kernelspec": {
   "display_name": "Python 3",
   "language": "python",
   "name": "python3"
  },
  "language_info": {
   "codemirror_mode": {
    "name": "ipython",
    "version": 3
   },
   "file_extension": ".py",
   "mimetype": "text/x-python",
   "name": "python",
   "nbconvert_exporter": "python",
   "pygments_lexer": "ipython3",
   "version": "3.7.6"
  }
 },
 "nbformat": 4,
 "nbformat_minor": 4
}
