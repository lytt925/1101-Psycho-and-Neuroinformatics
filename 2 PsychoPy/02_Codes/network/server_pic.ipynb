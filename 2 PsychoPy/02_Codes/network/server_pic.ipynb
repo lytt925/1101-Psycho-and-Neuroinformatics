{
 "cells": [
  {
   "cell_type": "code",
   "execution_count": 9,
   "metadata": {},
   "outputs": [
    {
     "name": "stdout",
     "output_type": "stream",
     "text": [
      "Waiting for a client\n",
      "Press 1, 2, ..., 6 to pick a word:\n",
      "elephant, fish, bird, road, houses, trees\n",
      "Server choice:2\n",
      "Waiting for the client\n",
      "y\n",
      "Press 1, 2, ..., 6 to pick a word:\n",
      "elephant, fish, bird, road, houses, trees\n",
      "Server choice:3\n",
      "Waiting for the client\n",
      "y\n"
     ]
    }
   ],
   "source": [
    "import numpy as np,glob as gb,socket\n",
    "from PIL import Image \n",
    "from matplotlib.pyplot import *\n",
    "\n",
    "code='utf-8'; nTrials=6\n",
    "words=['elephant','fish','bird','road','houses','trees']\n",
    "instruct='Press 1, 2, ..., 6 to pick a word:\\n'\n",
    "instruct=instruct+', '.join(words)\n",
    "f=[gb.glob('T*.jpg'),gb.glob('D*.jpg')] # picture files\n",
    "f=np.append(np.random.choice(f[0],3,False),np.random.choice(f[1],3,False))\n",
    "    \n",
    "corAns=np.array(['y']*3+['n']*3)\n",
    "\n",
    "imgs=[] # list of 6 images \n",
    "for i in range(len(f)):\n",
    "    imgs.append(Image.open(f[i]).resize([64]*2))\n",
    "        \n",
    "print('Waiting for a client')\n",
    "s=socket.socket(socket.AF_INET,socket.SOCK_STREAM)\n",
    "s.setsockopt(socket.SOL_SOCKET,socket.SO_REUSEADDR,1)\n",
    "s.bind(('localhost', 1241))\n",
    "s.listen(1) # allow 1 client\n",
    "(c,adr)=s.accept()\n",
    "\n",
    "for t in range(2):\n",
    "  print(instruct)\n",
    "  key=input('Server choice:')\n",
    "  idx=int(key[0])-1 # choice as the array index\n",
    "  with open(f[idx],'rb') as file:\n",
    "    data=file.read() # read in pic file\n",
    "  c.sendall((corAns[idx]+str(len(data))).encode(code)) # inform ans + pic size\n",
    "  c.sendall(data) # send pic file to the client\n",
    "  print('Waiting for the client')\n",
    "  print(c.recv(1).decode(code)) # waiting for a response from the client\n",
    "\n",
    "s.close()"
   ]
  },
  {
   "cell_type": "code",
   "execution_count": null,
   "metadata": {},
   "outputs": [],
   "source": []
  }
 ],
 "metadata": {
  "kernelspec": {
   "display_name": "Python 3 (ipykernel)",
   "language": "python",
   "name": "python3"
  },
  "language_info": {
   "codemirror_mode": {
    "name": "ipython",
    "version": 3
   },
   "file_extension": ".py",
   "mimetype": "text/x-python",
   "name": "python",
   "nbconvert_exporter": "python",
   "pygments_lexer": "ipython3",
   "version": "3.9.5"
  }
 },
 "nbformat": 4,
 "nbformat_minor": 4
}
