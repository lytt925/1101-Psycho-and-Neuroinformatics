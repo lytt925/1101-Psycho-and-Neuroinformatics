{
 "cells": [
  {
   "cell_type": "code",
   "execution_count": null,
   "metadata": {},
   "outputs": [
    {
     "name": "stdout",
     "output_type": "stream",
     "text": [
      "Waiting for a client\n",
      "Press 1, 2, ..., 6 to pick a word:\n",
      "cat, dog, panda, table, iphone, bag\n",
      "Server choice:1\n",
      "Waiting for the client\n",
      "y\n",
      "Press 1, 2, ..., 6 to pick a word:\n",
      "cat, dog, panda, table, iphone, bag\n",
      "Server choice:2\n",
      "Waiting for the client\n"
     ]
    }
   ],
   "source": [
    "import socket,numpy as np\n",
    "\n",
    "code='utf-8'; nTrials=6\n",
    "words=['cat','dog','panda','table','iphone','bag']\n",
    "instruct='Press 1, 2, ..., 6 to pick a word:\\n'\n",
    "instruct=instruct+', '.join(words)\n",
    "corAns=np.array(['y']*3+['n']*3)\n",
    "ACC=np.array([]); RT=np.array([])\n",
    "print('Waiting for a client')\n",
    "\n",
    "s=socket.socket(socket.AF_INET,socket.SOCK_STREAM)\n",
    "s.setsockopt(socket.SOL_SOCKET,socket.SO_REUSEADDR,1)\n",
    "s.bind(('localhost', 1239))\n",
    "s.listen(1) # allow 1 client\n",
    "(c,adr)=s.accept()\n",
    "\n",
    "for i in range(nTrials):\n",
    " print(instruct)\n",
    " key=input('Server choice:')\n",
    " idx=int(key[0])-1 # choice as the array index\n",
    " c.sendall((corAns[idx]+words[idx]).encode(code)) # something like 'ycat'\n",
    " print('Waiting for the client')\n",
    " print(c.recv(1).decode()) # waiting for a response from the client"
   ]
  },
  {
   "cell_type": "code",
   "execution_count": null,
   "metadata": {},
   "outputs": [],
   "source": []
  }
 ],
 "metadata": {
  "kernelspec": {
   "display_name": "Python 3",
   "language": "python",
   "name": "python3"
  },
  "language_info": {
   "codemirror_mode": {
    "name": "ipython",
    "version": 3
   },
   "file_extension": ".py",
   "mimetype": "text/x-python",
   "name": "python",
   "nbconvert_exporter": "python",
   "pygments_lexer": "ipython3",
   "version": "3.7.6"
  }
 },
 "nbformat": 4,
 "nbformat_minor": 4
}
