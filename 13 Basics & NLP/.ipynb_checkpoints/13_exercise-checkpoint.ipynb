{
 "cells": [
  {
   "cell_type": "markdown",
   "metadata": {},
   "source": [
    "# Psychoinformatics - Week 13 (Exercises)\n",
    "by your name (your email)"
   ]
  },
  {
   "cell_type": "markdown",
   "metadata": {},
   "source": [
    "## 1 進一步研究 Regular Expressions (4 points)\n",
    "用urllib+re在<a href=\"https://www.csie.ntu.edu.tw/members/teacher.php\">臺大資工系網頁</a>搜集教師emails."
   ]
  },
  {
   "cell_type": "code",
   "execution_count": 12,
   "metadata": {
    "scrolled": true
   },
   "outputs": [],
   "source": [
    "# Please write your codes here\n",
    "import urllib, re\n",
    "import pandas as pd\n",
    "\n",
    "with urllib.request.urlopen('https://www.csie.ntu.edu.tw/members/teacher.php') as response:\n",
    "    html = response.read().decode('utf-8')\n",
    "\n",
    "# split on <!-- End of info -->\n",
    "splitList = html.split(\"<!-- End of info -->\")\n",
    "\n",
    "# create a professor list\n",
    "profList =  [splitList[i] for i in range(len(splitList)) if 'mail' in splitList[i]]"
   ]
  },
  {
   "cell_type": "code",
   "execution_count": 13,
   "metadata": {},
   "outputs": [],
   "source": [
    "def getNameandMail(profInfo):\n",
    "    \n",
    "    # Get the professor's name\n",
    "    getName = \"PID=\\d+\\\">([^<]*)\"\n",
    "    profName=re.findall(getName,profInfo)[0] #search into a list\n",
    "    \n",
    "    # Get mail\n",
    "    getMail = \"l\\[\\d+\\]='\\|(\\d+)';\"\n",
    "    mailcode = re.findall(getMail,profInfo) \n",
    "    profMail = \"\".join([chr(int(char.replace('|',''))) for char in mailcode][:len(mailcode)//2-1:-1])\n",
    "    \n",
    "    return profName, profMail"
   ]
  },
  {
   "cell_type": "code",
   "execution_count": 14,
   "metadata": {
    "hide_input": false
   },
   "outputs": [
    {
     "name": "stdout",
     "output_type": "stream",
     "text": [
      "------------------------------------------------------------\n",
      "洪士灝 (SH Hung)                    hungsh@csie.ntu.edu.tw\n",
      "------------------------------------------------------------\n",
      "施吉昇 (CS Shih)                     cshih@csie.ntu.edu.tw\n",
      "------------------------------------------------------------\n",
      "林軒田 (HT Lin)                      htlin@csie.ntu.edu.tw\n",
      "------------------------------------------------------------\n",
      "曾宇鳳 (YF Tseng)                  yjtseng@csie.ntu.edu.tw\n",
      "------------------------------------------------------------\n",
      "張瑞峰 (RF Chang)                  rfchang@csie.ntu.edu.tw\n",
      "------------------------------------------------------------\n",
      "趙坤茂 (KM Chao)                    kmchao@csie.ntu.edu.tw\n",
      "------------------------------------------------------------\n",
      "陳炳宇 (BY Chen)                          robin@ntu.edu.tw\n",
      "------------------------------------------------------------\n",
      "陳祝嵩 (Chu-Song Chen)             chusong@csie.ntu.edu.tw\n",
      "------------------------------------------------------------\n",
      "陳健輝 (GH Chen)                    ghchen@csie.ntu.edu.tw\n",
      "------------------------------------------------------------\n",
      "陳信希 (HH Chen)                    hhchen@csie.ntu.edu.tw\n",
      "------------------------------------------------------------\n",
      "陳尚澤 (Shang-Tse Chen)             stchen@csie.ntu.edu.tw\n",
      "------------------------------------------------------------\n",
      "陳文進 (WC Chen)                    wcchen@csie.ntu.edu.tw\n",
      "------------------------------------------------------------\n",
      "陳彥仰 (Mike Y. Chen)             mikechen@csie.ntu.edu.tw\n",
      "------------------------------------------------------------\n",
      "陳縕儂 (Yun-Nung Chen)              yvchen@csie.ntu.edu.tw\n",
      "------------------------------------------------------------\n",
      "鄭龍磻（Lung-Pan Cheng）      lung-pan.cheng@csie.ntu.edu.tw\n",
      "------------------------------------------------------------\n",
      "鄭卜壬 (PJ Cheng)                  pjcheng@csie.ntu.edu.tw\n",
      "------------------------------------------------------------\n",
      "周承復 (CF Chou)                       ccf@csie.ntu.edu.tw\n",
      "------------------------------------------------------------\n",
      "莊永裕 (YY Chuang)                     cyy@csie.ntu.edu.tw\n",
      "------------------------------------------------------------\n",
      "傅楸善 (CS Fuh)                        fuh@csie.ntu.edu.tw\n",
      "------------------------------------------------------------\n",
      "項潔 (Jieh Hsiang)                 hsiang@csie.ntu.edu.tw\n",
      "------------------------------------------------------------\n",
      "蕭旭君 (Hsu-Chun Hsiao)            hchsiao@csie.ntu.edu.tw\n",
      "------------------------------------------------------------\n",
      "許永真 (YJ Hsu)                      yjhsu@csie.ntu.edu.tw\n",
      "------------------------------------------------------------\n",
      "徐宏民 (Winston Hsu)                       whsu@ntu.edu.tw\n",
      "------------------------------------------------------------\n",
      "薛智文 (CW Hsueh)                  cwhsueh@csie.ntu.edu.tw\n",
      "------------------------------------------------------------\n",
      "洪一平 (YP Hung)                      hung@csie.ntu.edu.tw\n",
      "------------------------------------------------------------\n",
      "張智星 (JS Jang)                      jang@csie.ntu.edu.tw\n",
      "------------------------------------------------------------\n",
      "顧孟愷 (MK Ku)                         mku@csie.ntu.edu.tw\n",
      "------------------------------------------------------------\n",
      "郭大維 (TW Kuo)                        ktw@csie.ntu.edu.tw\n",
      "------------------------------------------------------------\n",
      "李允中 (J Lee)                        jlee@csie.ntu.edu.tw\n",
      "------------------------------------------------------------\n",
      "李琳山 (LS Lee)                     lslee@cc.ee.ntu.edu.tw\n",
      "------------------------------------------------------------\n",
      "李明穗 (MS Lee)                      mslee@csie.ntu.edu.tw\n",
      "------------------------------------------------------------\n",
      "黎士瑋 (Shih-Wei Li)               shihwei@csie.ntu.edu.tw\n",
      "------------------------------------------------------------\n",
      "李彥寰 (Yen-Huan Li)            yenhuan.li@csie.ntu.edu.tw\n",
      "------------------------------------------------------------\n",
      "廖世偉 (Shih-wei Liao)                liao@csie.ntu.edu.tw\n",
      "------------------------------------------------------------\n",
      "林智仁 (CJ Lin)                      cjlin@csie.ntu.edu.tw\n",
      "------------------------------------------------------------\n",
      "林守德 (SD Lin)                      sdlin@csie.ntu.edu.tw\n",
      "------------------------------------------------------------\n",
      "林風 (P Lin)                         plin@csie.ntu.edu.tw\n",
      "------------------------------------------------------------\n",
      "劉邦鋒 (PF Liu)                   pangfeng@csie.ntu.edu.tw\n",
      "------------------------------------------------------------\n",
      "呂學一 (HI Lu)                         hil@csie.ntu.edu.tw\n",
      "------------------------------------------------------------\n",
      "呂育道 (YD Lyuu)                      lyuu@csie.ntu.edu.tw\n",
      "------------------------------------------------------------\n",
      "歐陽彥正 (YJ Oyang)                 yjoyang@csie.ntu.edu.tw\n",
      "------------------------------------------------------------\n",
      "逄愛君 (AC Pang)                    acpang@csie.ntu.edu.tw\n",
      "------------------------------------------------------------\n",
      "陳偉松 (Tony Tan)                  tonytan@csie.ntu.edu.tw\n",
      "------------------------------------------------------------\n",
      "蔡欣穆 (HM Tsai)                    hsinmu@csie.ntu.edu.tw\n",
      "------------------------------------------------------------\n",
      "王傑智 (CC Wang)                   bobwang@csie.ntu.edu.tw\n",
      "------------------------------------------------------------\n",
      "吳家麟 (JL Wu)                   wjl@cmlab.csie.ntu.edu.tw\n",
      "------------------------------------------------------------\n",
      "楊佳玲 (CL Yang)                     yangc@csie.ntu.edu.tw\n",
      "------------------------------------------------------------\n",
      "傅立成 (LC Fu)                      lichen@csie.ntu.edu.tw\n",
      "------------------------------------------------------------\n",
      "賴飛羆 (FP Lai)                       flai@csie.ntu.edu.tw\n",
      "------------------------------------------------------------\n",
      "林忠緯 (CW Lin)                      cwlin@csie.ntu.edu.tw\n",
      "------------------------------------------------------------\n",
      "張傑帆(Jie-Fan Chang)                jfanc@csie.ntu.edu.tw\n",
      "------------------------------------------------------------\n",
      "李德財 (DT Lee)                    dtlee@iis.sinica.edu.tw\n",
      "------------------------------------------------------------\n",
      "姚期智 (CC Yao)                 andrewcyao@tsinghua.edu.cn\n",
      "------------------------------------------------------------\n",
      "陳世卿                                    schen@isupergrid\n",
      "------------------------------------------------------------\n",
      "張韻詩 (W.-S. Chang)             janeliu@iis.sinica.edu.tw\n",
      "------------------------------------------------------------\n",
      "馬維英 (WY Ma)                          wyma@microsoft.com\n",
      "------------------------------------------------------------\n",
      "馬匡六 (Kwan-Liu Ma)                     ma@cs.ucdavis.edu\n",
      "------------------------------------------------------------\n",
      "洪小文 (HW Hon)                          hon@microsoft.com\n",
      "------------------------------------------------------------\n",
      "林桂傑                                       klin@uci.edu \n",
      "------------------------------------------------------------\n",
      "卓政宏 (CH Cho)                             chc@olemap.com\n",
      "------------------------------------------------------------\n",
      "鐘楷閔（Kai-Min Chung）            kmchung@iis.sinica.edu.tw\n",
      "------------------------------------------------------------\n",
      "徐讚昇 (TS Hsu)                    tshsu@iis.sinica.edu.tw\n",
      "------------------------------------------------------------\n",
      "徐慰中 (WC Hsu)                      hsuwc@csie.ntu.edu.tw\n",
      "------------------------------------------------------------\n",
      "許聞廉                               hsu@iis.sinica.edu.tw\n",
      "------------------------------------------------------------\n",
      "歐陽明 (M Ouhyoung)                   ming@csie.ntu.edu.tw\n",
      "------------------------------------------------------------\n",
      "甘宗左 (TT Kan)                  jackiekan@csie.ntu.edu.tw\n",
      "------------------------------------------------------------\n",
      "王柏堯 (BY Wang)                  bywang@iis.sinica.edu.tw\n",
      "------------------------------------------------------------\n",
      "朱浩華 (HH Chu)                       hchu@csie.ntu.edu.tw\n",
      "------------------------------------------------------------\n",
      "陳維超 (WC Chen)                    weichao.chen@gmail.com\n",
      "------------------------------------------------------------\n",
      "黃肇雄 (JH Huang)                      jau@csie.ntu.edu.tw\n",
      "------------------------------------------------------------\n",
      "劉長遠 (CY Liou)                    cyliou@csie.ntu.edu.tw\n",
      "------------------------------------------------------------\n",
      "林逢慶 (FC Lin)                     fc_lin@csie.ntu.edu.tw\n",
      "------------------------------------------------------------\n",
      "顏文明 (WM Yan)                   yanwenming.ntu@gmail.com\n"
     ]
    }
   ],
   "source": [
    "prof_df = pd.DataFrame(columns = ['Name','Mail'])\n",
    "\n",
    "for prof in profList:\n",
    "    \n",
    "    name, mail = getNameandMail(prof)\n",
    "    \n",
    "    # skip repeated professor\n",
    "    if name in prof_df['Name'].values:\n",
    "        continue\n",
    "    \n",
    "    prof_df = prof_df.append({'Name' :name , 'Mail': mail},ignore_index=True)  \n",
    "    print('------------------------------------------------------------')\n",
    "    print('{:<25}{:>30}'.format(name, mail))\n",
    "    \n",
    "    \n",
    "# prof_df = prof_df.drop_duplicates(ignore_index = True)\n",
    "# prof_df"
   ]
  },
  {
   "cell_type": "markdown",
   "metadata": {},
   "source": [
    "## 2 進一步研究Topic Modeling (4 points)\n",
    "對2.5 Topic Modeling的範例程式文本先過濾掉<a href=https://www.geeksforgeeks.org/removing-stop-words-nltk-python/>stop words</a>, 使5個主題能夠更加明確"
   ]
  },
  {
   "cell_type": "code",
   "execution_count": 4,
   "metadata": {},
   "outputs": [],
   "source": [
    "# Please write your codes here\n",
    "import gensim\n",
    "import gensim.downloader as api\n",
    "import nltk\n",
    "from nltk.corpus import stopwords"
   ]
  },
  {
   "cell_type": "code",
   "execution_count": 5,
   "metadata": {},
   "outputs": [],
   "source": [
    "corpus=api.load('text8')\n",
    "stop_words = stopwords.words('english')"
   ]
  },
  {
   "cell_type": "code",
   "execution_count": 15,
   "metadata": {},
   "outputs": [],
   "source": [
    "dct=gensim.corpora.Dictionary(corpus) # generate a dictionary from the text corpus\n",
    "\n",
    "# colect stopwords in dictionary\n",
    "removed_words = []\n",
    "for token in dct.values():\n",
    "    if token in stop_words:\n",
    "        removed_words.append(token)\n",
    "      # print(token)\n",
    "\n",
    "# filter stopwords in dictionary\n",
    "dct.filter_tokens(bad_ids=[dct.token2id[token] for token in removed_words])\n",
    "# print(dct)"
   ]
  },
  {
   "cell_type": "code",
   "execution_count": 31,
   "metadata": {},
   "outputs": [
    {
     "data": {
      "text/plain": [
       "[(0,\n",
       "  '0.046*\"one\" + 0.025*\"nine\" + 0.022*\"zero\" + 0.018*\"two\" + 0.014*\"four\" + 0.012*\"seven\" + 0.011*\"six\" + 0.011*\"eight\" + 0.011*\"five\" + 0.009*\"three\" + 0.003*\"also\" + 0.003*\"first\" + 0.003*\"american\" + 0.002*\"time\" + 0.002*\"many\"'),\n",
       " (1,\n",
       "  '0.034*\"one\" + 0.020*\"nine\" + 0.017*\"zero\" + 0.016*\"two\" + 0.009*\"seven\" + 0.008*\"eight\" + 0.008*\"five\" + 0.008*\"three\" + 0.007*\"six\" + 0.006*\"four\" + 0.005*\"also\" + 0.003*\"first\" + 0.002*\"american\" + 0.002*\"many\" + 0.002*\"however\"'),\n",
       " (2,\n",
       "  '0.032*\"one\" + 0.024*\"zero\" + 0.021*\"nine\" + 0.019*\"two\" + 0.011*\"eight\" + 0.010*\"three\" + 0.010*\"six\" + 0.009*\"five\" + 0.009*\"seven\" + 0.008*\"four\" + 0.004*\"also\" + 0.003*\"first\" + 0.002*\"new\" + 0.002*\"used\" + 0.002*\"time\"'),\n",
       " (3,\n",
       "  '0.034*\"one\" + 0.030*\"zero\" + 0.023*\"nine\" + 0.017*\"two\" + 0.014*\"eight\" + 0.013*\"five\" + 0.012*\"three\" + 0.010*\"four\" + 0.009*\"six\" + 0.008*\"seven\" + 0.004*\"also\" + 0.002*\"many\" + 0.002*\"new\" + 0.002*\"used\" + 0.002*\"first\"'),\n",
       " (4,\n",
       "  '0.033*\"one\" + 0.021*\"nine\" + 0.020*\"zero\" + 0.016*\"two\" + 0.011*\"three\" + 0.009*\"eight\" + 0.008*\"five\" + 0.008*\"six\" + 0.007*\"four\" + 0.006*\"seven\" + 0.004*\"also\" + 0.003*\"used\" + 0.002*\"first\" + 0.002*\"new\" + 0.002*\"many\"')]"
      ]
     },
     "execution_count": 31,
     "metadata": {},
     "output_type": "execute_result"
    }
   ],
   "source": [
    "corpus2=[dct.doc2bow(word) for word in corpus]\n",
    "\n",
    "# Latent Dirichlet Allocation (LDA)\n",
    "model=gensim.models.ldamodel.LdaModel(corpus2, num_topics=5, id2word=dct) #LDA training\n",
    "model.print_topics(num_words=5)"
   ]
  },
  {
   "cell_type": "code",
   "execution_count": 30,
   "metadata": {},
   "outputs": [
    {
     "name": "stdout",
     "output_type": "stream",
     "text": [
      "411764\n",
      "192644\n",
      "114775\n",
      "108182\n",
      "115789\n",
      "102145\n",
      "99683\n",
      "125285\n",
      "250430\n",
      "264975\n"
     ]
    }
   ],
   "source": [
    "for i in numberList:\n",
    "    print(dct.cfs[dct.token2id[i]])"
   ]
  },
  {
   "cell_type": "code",
   "execution_count": 8,
   "metadata": {},
   "outputs": [],
   "source": [
    "# filter numbers in dictionary\n",
    "numberList = ['one','two','three','four','five','six','seven','eight','nine','zero']\n",
    "dct.filter_tokens(bad_ids=[dct.token2id[token] for token in numberList])\n",
    "corpus2=[dct.doc2bow(word) for word in corpus]"
   ]
  },
  {
   "cell_type": "code",
   "execution_count": 9,
   "metadata": {
    "scrolled": false
   },
   "outputs": [
    {
     "data": {
      "text/plain": [
       "[(0,\n",
       "  '0.004*\"also\" + 0.003*\"used\" + 0.003*\"may\" + 0.002*\"see\" + 0.002*\"first\"'),\n",
       " (1,\n",
       "  '0.005*\"also\" + 0.003*\"first\" + 0.003*\"new\" + 0.003*\"time\" + 0.002*\"many\"'),\n",
       " (2,\n",
       "  '0.006*\"also\" + 0.004*\"used\" + 0.003*\"first\" + 0.003*\"many\" + 0.002*\"new\"'),\n",
       " (3,\n",
       "  '0.004*\"first\" + 0.004*\"also\" + 0.003*\"many\" + 0.003*\"new\" + 0.003*\"american\"'),\n",
       " (4,\n",
       "  '0.004*\"also\" + 0.003*\"american\" + 0.003*\"new\" + 0.003*\"b\" + 0.003*\"many\"')]"
      ]
     },
     "execution_count": 9,
     "metadata": {},
     "output_type": "execute_result"
    }
   ],
   "source": [
    "# LDA\n",
    "model=gensim.models.ldamodel.LdaModel(corpus2, num_topics=5, id2word=dct) #LDA training\n",
    "model.print_topics(num_words=5)"
   ]
  },
  {
   "cell_type": "code",
   "execution_count": 10,
   "metadata": {},
   "outputs": [],
   "source": [
    "# filter more words\n",
    "newList1 = ['also','many','would','used','may','however','b','th','use','first']\n",
    "dct.filter_tokens(bad_ids=[dct.token2id[token] for token in newList1])\n",
    "corpus2=[dct.doc2bow(word) for word in corpus]"
   ]
  },
  {
   "cell_type": "code",
   "execution_count": 11,
   "metadata": {},
   "outputs": [
    {
     "data": {
      "text/plain": [
       "[(0,\n",
       "  '0.003*\"new\" + 0.002*\"american\" + 0.002*\"time\" + 0.002*\"see\" + 0.002*\"known\"'),\n",
       " (1,\n",
       "  '0.003*\"american\" + 0.003*\"time\" + 0.002*\"new\" + 0.002*\"world\" + 0.002*\"see\"'),\n",
       " (2,\n",
       "  '0.003*\"new\" + 0.002*\"world\" + 0.002*\"people\" + 0.002*\"time\" + 0.002*\"see\"'),\n",
       " (3,\n",
       "  '0.002*\"time\" + 0.002*\"new\" + 0.002*\"years\" + 0.002*\"american\" + 0.002*\"states\"'),\n",
       " (4,\n",
       "  '0.002*\"see\" + 0.002*\"new\" + 0.002*\"world\" + 0.002*\"time\" + 0.002*\"american\"')]"
      ]
     },
     "execution_count": 11,
     "metadata": {},
     "output_type": "execute_result"
    }
   ],
   "source": [
    "# LDA\n",
    "model=gensim.models.ldamodel.LdaModel(corpus2, num_topics=5, id2word=dct) #LDA training\n",
    "model.print_topics(num_words=5)"
   ]
  },
  {
   "cell_type": "code",
   "execution_count": null,
   "metadata": {},
   "outputs": [],
   "source": []
  }
 ],
 "metadata": {
  "kernelspec": {
   "display_name": "PsychoInformatics",
   "language": "python",
   "name": "psychoinformatics"
  },
  "language_info": {
   "codemirror_mode": {
    "name": "ipython",
    "version": 3
   },
   "file_extension": ".py",
   "mimetype": "text/x-python",
   "name": "python",
   "nbconvert_exporter": "python",
   "pygments_lexer": "ipython3",
   "version": "3.9.7"
  },
  "varInspector": {
   "cols": {
    "lenName": 16,
    "lenType": 16,
    "lenVar": 40
   },
   "kernels_config": {
    "python": {
     "delete_cmd_postfix": "",
     "delete_cmd_prefix": "del ",
     "library": "var_list.py",
     "varRefreshCmd": "print(var_dic_list())"
    },
    "r": {
     "delete_cmd_postfix": ") ",
     "delete_cmd_prefix": "rm(",
     "library": "var_list.r",
     "varRefreshCmd": "cat(var_dic_list()) "
    }
   },
   "position": {
    "height": "597.844px",
    "left": "1560.19px",
    "right": "20px",
    "top": "85px",
    "width": "350px"
   },
   "types_to_exclude": [
    "module",
    "function",
    "builtin_function_or_method",
    "instance",
    "_Feature"
   ],
   "window_display": false
  }
 },
 "nbformat": 4,
 "nbformat_minor": 2
}
