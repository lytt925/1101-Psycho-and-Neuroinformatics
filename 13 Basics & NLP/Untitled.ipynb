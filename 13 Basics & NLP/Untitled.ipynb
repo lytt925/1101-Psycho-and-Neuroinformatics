{
 "cells": [
  {
   "cell_type": "code",
   "execution_count": 5,
   "id": "a054190e",
   "metadata": {},
   "outputs": [
    {
     "name": "stdout",
     "output_type": "stream",
     "text": [
      "{'delta_1': [200], 'delta_2': [300], 'delta_3': [400], 'delta_4': [500], 'delta_5': [600], 'delta_6': [700], 'delta_7': [200], 'delta_8': [300], 'delta_9': [400], 'delta_10': [500], 'delta_11': [600], 'delta_12': [700]}\n"
     ]
    }
   ],
   "source": [
    "max_gain = 6000\n",
    "max_loss = 5000\n",
    "alpha = 1\n",
    "beta = 1\n",
    "import math\n",
    "\n",
    "ratio_List = [0.1, 0.5, 0.9, 1.0, 1.1, 1.3, 1.5]\n",
    "\n",
    "# PTU 函數\n",
    "def PTU (Trial_n, x):\n",
    "    ratio = ratio_List[Trial_n]\n",
    "    Ug = (x/max_gain)**alpha\n",
    "    xstar = round(-1 * max_loss * math.exp(math.log(Ug * ratio)/beta))\n",
    "    return xstar\n",
    "\n",
    "# 建立資料dictionary    \n",
    "base_value = 100\n",
    "delta_dict = {**{'delta_'+str(i):[(i+1)%8*base_value] for i in range(1,7)},**{'delta_'+str(i+6):[(i+1)%8*base_value] for i in range(1,7)}}\n",
    "x_dict = {**{'x_List_'+str(i):[(i+1)%8*base_value] for i in range(1,7)},**{'x_List_'+str(i+6):[(i+1)%8*base_value] for i in range(1,7)}}\n",
    "x_star_dict = {**{'x_star_List_'+str(i):[PTU(0,x_dict['x_List_'+str(i)][-1])] for i in range(1,7)},**{'x_star_List_'+str(i+6):[PTU(0,x_dict['x_List_'+str(i+6)][-1])] for i in range(1,7)}}\n",
    "incentive_list = [] # data list used in the incentive phase\n",
    "\n",
    "print(delta_dict)"
   ]
  },
  {
   "cell_type": "code",
   "execution_count": null,
   "id": "066f7f58",
   "metadata": {},
   "outputs": [],
   "source": []
  }
 ],
 "metadata": {
  "kernelspec": {
   "display_name": "PsychoInformatics",
   "language": "python",
   "name": "psychoinformatics"
  },
  "language_info": {
   "codemirror_mode": {
    "name": "ipython",
    "version": 3
   },
   "file_extension": ".py",
   "mimetype": "text/x-python",
   "name": "python",
   "nbconvert_exporter": "python",
   "pygments_lexer": "ipython3",
   "version": "3.9.7"
  },
  "varInspector": {
   "cols": {
    "lenName": 16,
    "lenType": 16,
    "lenVar": 40
   },
   "kernels_config": {
    "python": {
     "delete_cmd_postfix": "",
     "delete_cmd_prefix": "del ",
     "library": "var_list.py",
     "varRefreshCmd": "print(var_dic_list())"
    },
    "r": {
     "delete_cmd_postfix": ") ",
     "delete_cmd_prefix": "rm(",
     "library": "var_list.r",
     "varRefreshCmd": "cat(var_dic_list()) "
    }
   },
   "types_to_exclude": [
    "module",
    "function",
    "builtin_function_or_method",
    "instance",
    "_Feature"
   ],
   "window_display": false
  }
 },
 "nbformat": 4,
 "nbformat_minor": 5
}
