{
 "cells": [
  {
   "cell_type": "markdown",
   "metadata": {
    "id": "zMpgme1iRLFc"
   },
   "source": [
    "# Psychoinformatics - Week 13 (Examples)\n",
    "by Tsung-Ren (Tren) Huang (trhuang@g.ntu.edu.tw)"
   ]
  },
  {
   "cell_type": "code",
   "execution_count": 2,
   "metadata": {
    "id": "zFR8ZcbPRLFe"
   },
   "outputs": [],
   "source": [
    "%config IPCompleter.greedy=True \n",
    "%matplotlib inline\n",
    "import numpy as np\n",
    "from matplotlib.pyplot import *\n",
    "from IPython.display import *\n",
    "import re\n",
    "import warnings\n",
    "warnings.filterwarnings(\"ignore\") "
   ]
  },
  {
   "cell_type": "markdown",
   "metadata": {
    "id": "RRjttjuQRLFg"
   },
   "source": [
    "## 1 Regular Expression"
   ]
  },
  {
   "cell_type": "markdown",
   "metadata": {
    "id": "dYfFtS4fRLFh"
   },
   "source": [
    "### 1.0 Basic String Operations"
   ]
  },
  {
   "cell_type": "code",
   "execution_count": 3,
   "metadata": {
    "id": "ff1YFbDWRLFh",
    "outputId": "96d943e6-951d-408c-fe81-698c77a16d51"
   },
   "outputs": [
    {
     "name": "stdout",
     "output_type": "stream",
     "text": [
      "this is a built-in module THIS IS A BUILT-IN MODULE\n",
      "['This', 'is', 'a', 'built-in', 'module'] ['This is a built', 'in module']\n",
      "10 built\n",
      "This is a built-in library\n",
      "2\n",
      "============This is a built-in module=============\n"
     ]
    }
   ],
   "source": [
    "a='This is a built-in module'\n",
    "print(a.lower(),a.upper())\n",
    "print(a.split(' '),a.split('-'))\n",
    "print(a.find('built'),a[10:15])\n",
    "print(a.replace('module','library'))\n",
    "print(a.count('is'))\n",
    "print(a.center(50,'='))"
   ]
  },
  {
   "cell_type": "markdown",
   "metadata": {
    "id": "5UKet3-PRLFj"
   },
   "source": [
    "### 1.1 Verification"
   ]
  },
  {
   "cell_type": "code",
   "execution_count": 4,
   "metadata": {
    "id": "gjTVo9uARLFj",
    "outputId": "5cd7a2ab-9d0d-4ff7-981b-4bdd39d91b8e"
   },
   "outputs": [
    {
     "name": "stdout",
     "output_type": "stream",
     "text": [
      "True\n"
     ]
    }
   ],
   "source": [
    "import re\n",
    "print(bool(re.match('[A-Za-z]\\d{9}','S123456789')))"
   ]
  },
  {
   "cell_type": "code",
   "execution_count": 5,
   "metadata": {
    "id": "Rt6jCX6ERLFk",
    "outputId": "e8cb5156-38d8-4435-a973-3536bee4b6e5"
   },
   "outputs": [
    {
     "name": "stdout",
     "output_type": "stream",
     "text": [
      "True\n"
     ]
    }
   ],
   "source": [
    "print(bool(re.match('[^@]+@[^@]+\\.[^@]+','a@b.c')))"
   ]
  },
  {
   "cell_type": "markdown",
   "metadata": {
    "id": "VdoeEqDXRLFk"
   },
   "source": [
    "### 1.2 Search, Match, & Find"
   ]
  },
  {
   "cell_type": "code",
   "execution_count": 6,
   "metadata": {
    "id": "Orb6UOX9RLFk",
    "outputId": "d44037d5-6bc1-4b4a-8820-e5db8b4d5e61"
   },
   "outputs": [
    {
     "name": "stdout",
     "output_type": "stream",
     "text": [
      "--------------------------------------------------\n",
      "search() found: hi AbC aBc\n",
      "findall() found: ['AbC', 'aBc']\n"
     ]
    }
   ],
   "source": [
    "regex=re.compile('abc',re.IGNORECASE)\n",
    "txt='hi AbC aBc'\n",
    "print('-'*50)\n",
    "out=regex.search(txt) #inexact match\n",
    "if(out): print('search() found:',out.string)\n",
    "out=regex.match(txt) #exact match\n",
    "if(out): print('match() found:',out.string)\n",
    "out=regex.findall(txt) #search into a list\n",
    "if(out): print('findall() found:',out)"
   ]
  },
  {
   "cell_type": "markdown",
   "metadata": {
    "id": "gO_CToenRLFl"
   },
   "source": [
    "### 1.3 Analysis of retweets"
   ]
  },
  {
   "cell_type": "code",
   "execution_count": 22,
   "metadata": {
    "id": "EH2HXfToRLFl",
    "outputId": "472c634e-df99-4409-a734-be1fe7c5f4a9"
   },
   "outputs": [
    {
     "name": "stdout",
     "output_type": "stream",
     "text": [
      "RT @spiketren RT @spiketren\n",
      "RT @spiketren RT @spiketren\n",
      "@spiketren\n",
      "via @spiketren via @spiketren\n",
      "via @spiketren via @spiketren\n",
      "@spiketren\n"
     ]
    }
   ],
   "source": [
    "tweets=['RT @spiketren  No class tomorrow','No class tomorrow (via @spiketren)']\n",
    "rt=re.compile('(RT|via) (@\\w+)')\n",
    "#rt=re.compile('(RT|\\(via) (@\\w+\\)*)')\n",
    "for t in tweets:\n",
    "    m=rt.search(t)\n",
    "    print(m.group(0),m.group(1),m.group(2));\n",
    "    print(m[0],m[1],m[2]);\n",
    "    print(m[2])"
   ]
  },
  {
   "cell_type": "markdown",
   "metadata": {
    "id": "jmFCrUcWRLFm"
   },
   "source": [
    "### 1.4 Collection of email addresses"
   ]
  },
  {
   "cell_type": "code",
   "execution_count": 21,
   "metadata": {
    "id": "1HnYEl7cRLFm",
    "outputId": "34d028eb-58d2-46d2-af07-a3e7c981d66b"
   },
   "outputs": [
    {
     "name": "stdout",
     "output_type": "stream",
     "text": [
      "test\n",
      "pichun_huang@mail.ncku.edu.tw,chendy@mail.ncku.edu.tw\n"
     ]
    }
   ],
   "source": [
    "html='<body><b>test</b><img src=test.jpg></body>'\n",
    "print(re.sub('<[^<]*>','',html))\n",
    "e='@mail.ncku.edu.tw'\n",
    "t='pichun_huang,chendy'\n",
    "print(re.sub('\\w+','\\g<0>'+e,t)) #group 0 + e"
   ]
  },
  {
   "cell_type": "markdown",
   "metadata": {
    "id": "EgY1TytQRLFm"
   },
   "source": [
    "## 2 Traditional Natural Language Processing (NLP)"
   ]
  },
  {
   "cell_type": "markdown",
   "metadata": {
    "id": "yPGuGVNaRLFm"
   },
   "source": [
    "### 2.0 Download text corpora"
   ]
  },
  {
   "cell_type": "markdown",
   "metadata": {
    "id": "nvHdghjdRLFn"
   },
   "source": [
    "### 2.1 Lexical diversity & Big words"
   ]
  },
  {
   "cell_type": "code",
   "execution_count": 8,
   "metadata": {
    "colab": {
     "base_uri": "https://localhost:8080/"
    },
    "id": "uCjISFFVRLFn",
    "outputId": "bf462b8f-836a-4922-9012-c62260b16382"
   },
   "outputs": [
    {
     "name": "stderr",
     "output_type": "stream",
     "text": [
      "[nltk_data] Downloading collection 'all'\n",
      "[nltk_data]    | \n",
      "[nltk_data]    | Downloading package abc to\n",
      "[nltk_data]    |     C:\\Users\\vince\\AppData\\Roaming\\nltk_data...\n",
      "[nltk_data]    |   Unzipping corpora\\abc.zip.\n",
      "[nltk_data]    | Downloading package alpino to\n",
      "[nltk_data]    |     C:\\Users\\vince\\AppData\\Roaming\\nltk_data...\n",
      "[nltk_data]    |   Unzipping corpora\\alpino.zip.\n",
      "[nltk_data]    | Downloading package biocreative_ppi to\n",
      "[nltk_data]    |     C:\\Users\\vince\\AppData\\Roaming\\nltk_data...\n",
      "[nltk_data]    |   Unzipping corpora\\biocreative_ppi.zip.\n",
      "[nltk_data]    | Downloading package brown to\n",
      "[nltk_data]    |     C:\\Users\\vince\\AppData\\Roaming\\nltk_data...\n",
      "[nltk_data]    |   Unzipping corpora\\brown.zip.\n",
      "[nltk_data]    | Downloading package brown_tei to\n",
      "[nltk_data]    |     C:\\Users\\vince\\AppData\\Roaming\\nltk_data...\n",
      "[nltk_data]    |   Unzipping corpora\\brown_tei.zip.\n",
      "[nltk_data]    | Downloading package cess_cat to\n",
      "[nltk_data]    |     C:\\Users\\vince\\AppData\\Roaming\\nltk_data...\n",
      "[nltk_data]    |   Unzipping corpora\\cess_cat.zip.\n",
      "[nltk_data]    | Downloading package cess_esp to\n",
      "[nltk_data]    |     C:\\Users\\vince\\AppData\\Roaming\\nltk_data...\n",
      "[nltk_data]    |   Unzipping corpora\\cess_esp.zip.\n",
      "[nltk_data]    | Downloading package chat80 to\n",
      "[nltk_data]    |     C:\\Users\\vince\\AppData\\Roaming\\nltk_data...\n",
      "[nltk_data]    |   Unzipping corpora\\chat80.zip.\n",
      "[nltk_data]    | Downloading package city_database to\n",
      "[nltk_data]    |     C:\\Users\\vince\\AppData\\Roaming\\nltk_data...\n",
      "[nltk_data]    |   Unzipping corpora\\city_database.zip.\n",
      "[nltk_data]    | Downloading package cmudict to\n",
      "[nltk_data]    |     C:\\Users\\vince\\AppData\\Roaming\\nltk_data...\n",
      "[nltk_data]    |   Unzipping corpora\\cmudict.zip.\n",
      "[nltk_data]    | Downloading package comparative_sentences to\n",
      "[nltk_data]    |     C:\\Users\\vince\\AppData\\Roaming\\nltk_data...\n",
      "[nltk_data]    |   Unzipping corpora\\comparative_sentences.zip.\n",
      "[nltk_data]    | Downloading package comtrans to\n",
      "[nltk_data]    |     C:\\Users\\vince\\AppData\\Roaming\\nltk_data...\n",
      "[nltk_data]    | Downloading package conll2000 to\n",
      "[nltk_data]    |     C:\\Users\\vince\\AppData\\Roaming\\nltk_data...\n",
      "[nltk_data]    |   Unzipping corpora\\conll2000.zip.\n",
      "[nltk_data]    | Downloading package conll2002 to\n",
      "[nltk_data]    |     C:\\Users\\vince\\AppData\\Roaming\\nltk_data...\n",
      "[nltk_data]    |   Unzipping corpora\\conll2002.zip.\n",
      "[nltk_data]    | Downloading package conll2007 to\n",
      "[nltk_data]    |     C:\\Users\\vince\\AppData\\Roaming\\nltk_data...\n",
      "[nltk_data]    | Downloading package crubadan to\n",
      "[nltk_data]    |     C:\\Users\\vince\\AppData\\Roaming\\nltk_data...\n",
      "[nltk_data]    |   Unzipping corpora\\crubadan.zip.\n",
      "[nltk_data]    | Downloading package dependency_treebank to\n",
      "[nltk_data]    |     C:\\Users\\vince\\AppData\\Roaming\\nltk_data...\n",
      "[nltk_data]    |   Unzipping corpora\\dependency_treebank.zip.\n",
      "[nltk_data]    | Downloading package dolch to\n",
      "[nltk_data]    |     C:\\Users\\vince\\AppData\\Roaming\\nltk_data...\n",
      "[nltk_data]    |   Unzipping corpora\\dolch.zip.\n",
      "[nltk_data]    | Downloading package europarl_raw to\n",
      "[nltk_data]    |     C:\\Users\\vince\\AppData\\Roaming\\nltk_data...\n",
      "[nltk_data]    |   Unzipping corpora\\europarl_raw.zip.\n",
      "[nltk_data]    | Downloading package floresta to\n",
      "[nltk_data]    |     C:\\Users\\vince\\AppData\\Roaming\\nltk_data...\n",
      "[nltk_data]    |   Unzipping corpora\\floresta.zip.\n",
      "[nltk_data]    | Downloading package framenet_v15 to\n",
      "[nltk_data]    |     C:\\Users\\vince\\AppData\\Roaming\\nltk_data...\n",
      "[nltk_data]    |   Unzipping corpora\\framenet_v15.zip.\n",
      "[nltk_data]    | Downloading package framenet_v17 to\n",
      "[nltk_data]    |     C:\\Users\\vince\\AppData\\Roaming\\nltk_data...\n",
      "[nltk_data]    |   Unzipping corpora\\framenet_v17.zip.\n",
      "[nltk_data]    | Downloading package gazetteers to\n",
      "[nltk_data]    |     C:\\Users\\vince\\AppData\\Roaming\\nltk_data...\n",
      "[nltk_data]    |   Unzipping corpora\\gazetteers.zip.\n",
      "[nltk_data]    | Downloading package genesis to\n",
      "[nltk_data]    |     C:\\Users\\vince\\AppData\\Roaming\\nltk_data...\n",
      "[nltk_data]    |   Unzipping corpora\\genesis.zip.\n",
      "[nltk_data]    | Downloading package gutenberg to\n",
      "[nltk_data]    |     C:\\Users\\vince\\AppData\\Roaming\\nltk_data...\n",
      "[nltk_data]    |   Unzipping corpora\\gutenberg.zip.\n",
      "[nltk_data]    | Downloading package ieer to\n",
      "[nltk_data]    |     C:\\Users\\vince\\AppData\\Roaming\\nltk_data...\n",
      "[nltk_data]    |   Unzipping corpora\\ieer.zip.\n",
      "[nltk_data]    | Downloading package inaugural to\n",
      "[nltk_data]    |     C:\\Users\\vince\\AppData\\Roaming\\nltk_data...\n",
      "[nltk_data]    |   Unzipping corpora\\inaugural.zip.\n",
      "[nltk_data]    | Downloading package indian to\n",
      "[nltk_data]    |     C:\\Users\\vince\\AppData\\Roaming\\nltk_data...\n",
      "[nltk_data]    |   Unzipping corpora\\indian.zip.\n",
      "[nltk_data]    | Downloading package jeita to\n",
      "[nltk_data]    |     C:\\Users\\vince\\AppData\\Roaming\\nltk_data...\n",
      "[nltk_data]    | Downloading package kimmo to\n",
      "[nltk_data]    |     C:\\Users\\vince\\AppData\\Roaming\\nltk_data...\n",
      "[nltk_data]    |   Unzipping corpora\\kimmo.zip.\n",
      "[nltk_data]    | Downloading package knbc to\n",
      "[nltk_data]    |     C:\\Users\\vince\\AppData\\Roaming\\nltk_data...\n",
      "[nltk_data]    | Downloading package lin_thesaurus to\n",
      "[nltk_data]    |     C:\\Users\\vince\\AppData\\Roaming\\nltk_data...\n",
      "[nltk_data]    |   Unzipping corpora\\lin_thesaurus.zip.\n",
      "[nltk_data]    | Downloading package mac_morpho to\n",
      "[nltk_data]    |     C:\\Users\\vince\\AppData\\Roaming\\nltk_data...\n",
      "[nltk_data]    |   Unzipping corpora\\mac_morpho.zip.\n",
      "[nltk_data]    | Downloading package machado to\n",
      "[nltk_data]    |     C:\\Users\\vince\\AppData\\Roaming\\nltk_data...\n",
      "[nltk_data]    | Downloading package masc_tagged to\n",
      "[nltk_data]    |     C:\\Users\\vince\\AppData\\Roaming\\nltk_data...\n",
      "[nltk_data]    | Downloading package moses_sample to\n",
      "[nltk_data]    |     C:\\Users\\vince\\AppData\\Roaming\\nltk_data...\n",
      "[nltk_data]    |   Unzipping models\\moses_sample.zip.\n",
      "[nltk_data]    | Downloading package movie_reviews to\n",
      "[nltk_data]    |     C:\\Users\\vince\\AppData\\Roaming\\nltk_data...\n",
      "[nltk_data]    |   Unzipping corpora\\movie_reviews.zip.\n",
      "[nltk_data]    | Downloading package names to\n",
      "[nltk_data]    |     C:\\Users\\vince\\AppData\\Roaming\\nltk_data...\n",
      "[nltk_data]    |   Unzipping corpora\\names.zip.\n",
      "[nltk_data]    | Downloading package nombank.1.0 to\n",
      "[nltk_data]    |     C:\\Users\\vince\\AppData\\Roaming\\nltk_data...\n",
      "[nltk_data]    | Downloading package nps_chat to\n",
      "[nltk_data]    |     C:\\Users\\vince\\AppData\\Roaming\\nltk_data...\n",
      "[nltk_data]    |   Unzipping corpora\\nps_chat.zip.\n",
      "[nltk_data]    | Downloading package omw-1.4 to\n",
      "[nltk_data]    |     C:\\Users\\vince\\AppData\\Roaming\\nltk_data...\n",
      "[nltk_data]    |   Unzipping corpora\\omw-1.4.zip.\n",
      "[nltk_data]    | Downloading package omw to\n",
      "[nltk_data]    |     C:\\Users\\vince\\AppData\\Roaming\\nltk_data...\n",
      "[nltk_data]    |   Unzipping corpora\\omw.zip.\n",
      "[nltk_data]    | Downloading package opinion_lexicon to\n",
      "[nltk_data]    |     C:\\Users\\vince\\AppData\\Roaming\\nltk_data...\n",
      "[nltk_data]    |   Unzipping corpora\\opinion_lexicon.zip.\n",
      "[nltk_data]    | Downloading package paradigms to\n",
      "[nltk_data]    |     C:\\Users\\vince\\AppData\\Roaming\\nltk_data...\n",
      "[nltk_data]    |   Unzipping corpora\\paradigms.zip.\n",
      "[nltk_data]    | Downloading package pil to\n",
      "[nltk_data]    |     C:\\Users\\vince\\AppData\\Roaming\\nltk_data...\n",
      "[nltk_data]    |   Unzipping corpora\\pil.zip.\n",
      "[nltk_data]    | Downloading package pl196x to\n",
      "[nltk_data]    |     C:\\Users\\vince\\AppData\\Roaming\\nltk_data...\n",
      "[nltk_data]    |   Unzipping corpora\\pl196x.zip.\n",
      "[nltk_data]    | Downloading package ppattach to\n",
      "[nltk_data]    |     C:\\Users\\vince\\AppData\\Roaming\\nltk_data...\n",
      "[nltk_data]    |   Unzipping corpora\\ppattach.zip.\n",
      "[nltk_data]    | Downloading package problem_reports to\n",
      "[nltk_data]    |     C:\\Users\\vince\\AppData\\Roaming\\nltk_data...\n",
      "[nltk_data]    |   Unzipping corpora\\problem_reports.zip.\n",
      "[nltk_data]    | Downloading package propbank to\n",
      "[nltk_data]    |     C:\\Users\\vince\\AppData\\Roaming\\nltk_data...\n",
      "[nltk_data]    | Downloading package ptb to\n",
      "[nltk_data]    |     C:\\Users\\vince\\AppData\\Roaming\\nltk_data...\n",
      "[nltk_data]    |   Unzipping corpora\\ptb.zip.\n",
      "[nltk_data]    | Downloading package product_reviews_1 to\n",
      "[nltk_data]    |     C:\\Users\\vince\\AppData\\Roaming\\nltk_data...\n",
      "[nltk_data]    |   Unzipping corpora\\product_reviews_1.zip.\n",
      "[nltk_data]    | Downloading package product_reviews_2 to\n",
      "[nltk_data]    |     C:\\Users\\vince\\AppData\\Roaming\\nltk_data...\n"
     ]
    },
    {
     "name": "stderr",
     "output_type": "stream",
     "text": [
      "[nltk_data]    |   Unzipping corpora\\product_reviews_2.zip.\n",
      "[nltk_data]    | Downloading package pros_cons to\n",
      "[nltk_data]    |     C:\\Users\\vince\\AppData\\Roaming\\nltk_data...\n",
      "[nltk_data]    |   Unzipping corpora\\pros_cons.zip.\n",
      "[nltk_data]    | Downloading package qc to\n",
      "[nltk_data]    |     C:\\Users\\vince\\AppData\\Roaming\\nltk_data...\n",
      "[nltk_data]    |   Unzipping corpora\\qc.zip.\n",
      "[nltk_data]    | Downloading package reuters to\n",
      "[nltk_data]    |     C:\\Users\\vince\\AppData\\Roaming\\nltk_data...\n",
      "[nltk_data]    | Downloading package rte to\n",
      "[nltk_data]    |     C:\\Users\\vince\\AppData\\Roaming\\nltk_data...\n",
      "[nltk_data]    |   Unzipping corpora\\rte.zip.\n",
      "[nltk_data]    | Downloading package semcor to\n",
      "[nltk_data]    |     C:\\Users\\vince\\AppData\\Roaming\\nltk_data...\n",
      "[nltk_data]    | Downloading package senseval to\n",
      "[nltk_data]    |     C:\\Users\\vince\\AppData\\Roaming\\nltk_data...\n",
      "[nltk_data]    |   Unzipping corpora\\senseval.zip.\n",
      "[nltk_data]    | Downloading package sentiwordnet to\n",
      "[nltk_data]    |     C:\\Users\\vince\\AppData\\Roaming\\nltk_data...\n",
      "[nltk_data]    |   Unzipping corpora\\sentiwordnet.zip.\n",
      "[nltk_data]    | Downloading package sentence_polarity to\n",
      "[nltk_data]    |     C:\\Users\\vince\\AppData\\Roaming\\nltk_data...\n",
      "[nltk_data]    |   Unzipping corpora\\sentence_polarity.zip.\n",
      "[nltk_data]    | Downloading package shakespeare to\n",
      "[nltk_data]    |     C:\\Users\\vince\\AppData\\Roaming\\nltk_data...\n",
      "[nltk_data]    |   Unzipping corpora\\shakespeare.zip.\n",
      "[nltk_data]    | Downloading package sinica_treebank to\n",
      "[nltk_data]    |     C:\\Users\\vince\\AppData\\Roaming\\nltk_data...\n",
      "[nltk_data]    |   Unzipping corpora\\sinica_treebank.zip.\n",
      "[nltk_data]    | Downloading package smultron to\n",
      "[nltk_data]    |     C:\\Users\\vince\\AppData\\Roaming\\nltk_data...\n",
      "[nltk_data]    |   Unzipping corpora\\smultron.zip.\n",
      "[nltk_data]    | Downloading package state_union to\n",
      "[nltk_data]    |     C:\\Users\\vince\\AppData\\Roaming\\nltk_data...\n",
      "[nltk_data]    |   Unzipping corpora\\state_union.zip.\n",
      "[nltk_data]    | Downloading package stopwords to\n",
      "[nltk_data]    |     C:\\Users\\vince\\AppData\\Roaming\\nltk_data...\n",
      "[nltk_data]    |   Unzipping corpora\\stopwords.zip.\n",
      "[nltk_data]    | Downloading package subjectivity to\n",
      "[nltk_data]    |     C:\\Users\\vince\\AppData\\Roaming\\nltk_data...\n",
      "[nltk_data]    |   Unzipping corpora\\subjectivity.zip.\n",
      "[nltk_data]    | Downloading package swadesh to\n",
      "[nltk_data]    |     C:\\Users\\vince\\AppData\\Roaming\\nltk_data...\n",
      "[nltk_data]    |   Unzipping corpora\\swadesh.zip.\n",
      "[nltk_data]    | Downloading package switchboard to\n",
      "[nltk_data]    |     C:\\Users\\vince\\AppData\\Roaming\\nltk_data...\n",
      "[nltk_data]    |   Unzipping corpora\\switchboard.zip.\n",
      "[nltk_data]    | Downloading package timit to\n",
      "[nltk_data]    |     C:\\Users\\vince\\AppData\\Roaming\\nltk_data...\n",
      "[nltk_data]    |   Unzipping corpora\\timit.zip.\n",
      "[nltk_data]    | Downloading package toolbox to\n",
      "[nltk_data]    |     C:\\Users\\vince\\AppData\\Roaming\\nltk_data...\n",
      "[nltk_data]    |   Unzipping corpora\\toolbox.zip.\n",
      "[nltk_data]    | Downloading package treebank to\n",
      "[nltk_data]    |     C:\\Users\\vince\\AppData\\Roaming\\nltk_data...\n",
      "[nltk_data]    |   Unzipping corpora\\treebank.zip.\n",
      "[nltk_data]    | Downloading package twitter_samples to\n",
      "[nltk_data]    |     C:\\Users\\vince\\AppData\\Roaming\\nltk_data...\n",
      "[nltk_data]    |   Unzipping corpora\\twitter_samples.zip.\n",
      "[nltk_data]    | Downloading package udhr to\n",
      "[nltk_data]    |     C:\\Users\\vince\\AppData\\Roaming\\nltk_data...\n",
      "[nltk_data]    |   Unzipping corpora\\udhr.zip.\n",
      "[nltk_data]    | Downloading package udhr2 to\n",
      "[nltk_data]    |     C:\\Users\\vince\\AppData\\Roaming\\nltk_data...\n",
      "[nltk_data]    |   Unzipping corpora\\udhr2.zip.\n",
      "[nltk_data]    | Downloading package unicode_samples to\n",
      "[nltk_data]    |     C:\\Users\\vince\\AppData\\Roaming\\nltk_data...\n",
      "[nltk_data]    |   Unzipping corpora\\unicode_samples.zip.\n",
      "[nltk_data]    | Downloading package universal_treebanks_v20 to\n",
      "[nltk_data]    |     C:\\Users\\vince\\AppData\\Roaming\\nltk_data...\n",
      "[nltk_data]    | Downloading package verbnet to\n",
      "[nltk_data]    |     C:\\Users\\vince\\AppData\\Roaming\\nltk_data...\n",
      "[nltk_data]    |   Unzipping corpora\\verbnet.zip.\n",
      "[nltk_data]    | Downloading package verbnet3 to\n",
      "[nltk_data]    |     C:\\Users\\vince\\AppData\\Roaming\\nltk_data...\n",
      "[nltk_data]    |   Unzipping corpora\\verbnet3.zip.\n",
      "[nltk_data]    | Downloading package webtext to\n",
      "[nltk_data]    |     C:\\Users\\vince\\AppData\\Roaming\\nltk_data...\n",
      "[nltk_data]    |   Unzipping corpora\\webtext.zip.\n",
      "[nltk_data]    | Downloading package wordnet to\n",
      "[nltk_data]    |     C:\\Users\\vince\\AppData\\Roaming\\nltk_data...\n",
      "[nltk_data]    |   Unzipping corpora\\wordnet.zip.\n",
      "[nltk_data]    | Downloading package wordnet31 to\n",
      "[nltk_data]    |     C:\\Users\\vince\\AppData\\Roaming\\nltk_data...\n",
      "[nltk_data]    |   Unzipping corpora\\wordnet31.zip.\n",
      "[nltk_data]    | Downloading package wordnet_ic to\n",
      "[nltk_data]    |     C:\\Users\\vince\\AppData\\Roaming\\nltk_data...\n",
      "[nltk_data]    |   Unzipping corpora\\wordnet_ic.zip.\n",
      "[nltk_data]    | Downloading package words to\n",
      "[nltk_data]    |     C:\\Users\\vince\\AppData\\Roaming\\nltk_data...\n",
      "[nltk_data]    |   Unzipping corpora\\words.zip.\n",
      "[nltk_data]    | Downloading package ycoe to\n",
      "[nltk_data]    |     C:\\Users\\vince\\AppData\\Roaming\\nltk_data...\n",
      "[nltk_data]    |   Unzipping corpora\\ycoe.zip.\n",
      "[nltk_data]    | Downloading package rslp to\n",
      "[nltk_data]    |     C:\\Users\\vince\\AppData\\Roaming\\nltk_data...\n",
      "[nltk_data]    |   Unzipping stemmers\\rslp.zip.\n",
      "[nltk_data]    | Downloading package maxent_treebank_pos_tagger to\n",
      "[nltk_data]    |     C:\\Users\\vince\\AppData\\Roaming\\nltk_data...\n",
      "[nltk_data]    |   Unzipping taggers\\maxent_treebank_pos_tagger.zip.\n",
      "[nltk_data]    | Downloading package universal_tagset to\n",
      "[nltk_data]    |     C:\\Users\\vince\\AppData\\Roaming\\nltk_data...\n",
      "[nltk_data]    |   Unzipping taggers\\universal_tagset.zip.\n",
      "[nltk_data]    | Downloading package maxent_ne_chunker to\n",
      "[nltk_data]    |     C:\\Users\\vince\\AppData\\Roaming\\nltk_data...\n",
      "[nltk_data]    |   Unzipping chunkers\\maxent_ne_chunker.zip.\n",
      "[nltk_data]    | Downloading package punkt to\n",
      "[nltk_data]    |     C:\\Users\\vince\\AppData\\Roaming\\nltk_data...\n",
      "[nltk_data]    |   Unzipping tokenizers\\punkt.zip.\n",
      "[nltk_data]    | Downloading package book_grammars to\n",
      "[nltk_data]    |     C:\\Users\\vince\\AppData\\Roaming\\nltk_data...\n",
      "[nltk_data]    |   Unzipping grammars\\book_grammars.zip.\n",
      "[nltk_data]    | Downloading package sample_grammars to\n",
      "[nltk_data]    |     C:\\Users\\vince\\AppData\\Roaming\\nltk_data...\n",
      "[nltk_data]    |   Unzipping grammars\\sample_grammars.zip.\n",
      "[nltk_data]    | Downloading package spanish_grammars to\n",
      "[nltk_data]    |     C:\\Users\\vince\\AppData\\Roaming\\nltk_data...\n",
      "[nltk_data]    |   Unzipping grammars\\spanish_grammars.zip.\n",
      "[nltk_data]    | Downloading package basque_grammars to\n",
      "[nltk_data]    |     C:\\Users\\vince\\AppData\\Roaming\\nltk_data...\n",
      "[nltk_data]    |   Unzipping grammars\\basque_grammars.zip.\n",
      "[nltk_data]    | Downloading package large_grammars to\n",
      "[nltk_data]    |     C:\\Users\\vince\\AppData\\Roaming\\nltk_data...\n",
      "[nltk_data]    |   Unzipping grammars\\large_grammars.zip.\n",
      "[nltk_data]    | Downloading package tagsets to\n",
      "[nltk_data]    |     C:\\Users\\vince\\AppData\\Roaming\\nltk_data...\n",
      "[nltk_data]    |   Unzipping help\\tagsets.zip.\n",
      "[nltk_data]    | Downloading package snowball_data to\n",
      "[nltk_data]    |     C:\\Users\\vince\\AppData\\Roaming\\nltk_data...\n",
      "[nltk_data]    | Downloading package bllip_wsj_no_aux to\n",
      "[nltk_data]    |     C:\\Users\\vince\\AppData\\Roaming\\nltk_data...\n",
      "[nltk_data]    |   Unzipping models\\bllip_wsj_no_aux.zip.\n",
      "[nltk_data]    | Downloading package word2vec_sample to\n",
      "[nltk_data]    |     C:\\Users\\vince\\AppData\\Roaming\\nltk_data...\n",
      "[nltk_data]    |   Unzipping models\\word2vec_sample.zip.\n",
      "[nltk_data]    | Downloading package panlex_swadesh to\n",
      "[nltk_data]    |     C:\\Users\\vince\\AppData\\Roaming\\nltk_data...\n",
      "[nltk_data]    | Downloading package mte_teip5 to\n",
      "[nltk_data]    |     C:\\Users\\vince\\AppData\\Roaming\\nltk_data...\n",
      "[nltk_data]    |   Unzipping corpora\\mte_teip5.zip.\n",
      "[nltk_data]    | Downloading package averaged_perceptron_tagger to\n",
      "[nltk_data]    |     C:\\Users\\vince\\AppData\\Roaming\\nltk_data...\n",
      "[nltk_data]    |   Unzipping taggers\\averaged_perceptron_tagger.zip.\n",
      "[nltk_data]    | Downloading package averaged_perceptron_tagger_ru to\n",
      "[nltk_data]    |     C:\\Users\\vince\\AppData\\Roaming\\nltk_data...\n"
     ]
    },
    {
     "name": "stderr",
     "output_type": "stream",
     "text": [
      "[nltk_data]    |   Unzipping\n",
      "[nltk_data]    |       taggers\\averaged_perceptron_tagger_ru.zip.\n",
      "[nltk_data]    | Downloading package perluniprops to\n",
      "[nltk_data]    |     C:\\Users\\vince\\AppData\\Roaming\\nltk_data...\n",
      "[nltk_data]    |   Unzipping misc\\perluniprops.zip.\n",
      "[nltk_data]    | Downloading package nonbreaking_prefixes to\n",
      "[nltk_data]    |     C:\\Users\\vince\\AppData\\Roaming\\nltk_data...\n",
      "[nltk_data]    |   Unzipping corpora\\nonbreaking_prefixes.zip.\n",
      "[nltk_data]    | Downloading package vader_lexicon to\n",
      "[nltk_data]    |     C:\\Users\\vince\\AppData\\Roaming\\nltk_data...\n",
      "[nltk_data]    | Downloading package porter_test to\n",
      "[nltk_data]    |     C:\\Users\\vince\\AppData\\Roaming\\nltk_data...\n",
      "[nltk_data]    |   Unzipping stemmers\\porter_test.zip.\n",
      "[nltk_data]    | Downloading package wmt15_eval to\n",
      "[nltk_data]    |     C:\\Users\\vince\\AppData\\Roaming\\nltk_data...\n",
      "[nltk_data]    |   Unzipping models\\wmt15_eval.zip.\n",
      "[nltk_data]    | Downloading package mwa_ppdb to\n",
      "[nltk_data]    |     C:\\Users\\vince\\AppData\\Roaming\\nltk_data...\n",
      "[nltk_data]    |   Unzipping misc\\mwa_ppdb.zip.\n",
      "[nltk_data]    | \n",
      "[nltk_data]  Done downloading collection all\n"
     ]
    },
    {
     "data": {
      "text/plain": [
       "True"
      ]
     },
     "execution_count": 8,
     "metadata": {},
     "output_type": "execute_result"
    }
   ],
   "source": [
    "import nltk\n",
    "nltk.download('all')"
   ]
  },
  {
   "cell_type": "code",
   "execution_count": 9,
   "metadata": {
    "id": "yrJGILF_RLFn",
    "outputId": "d7a3cfb6-b512-4af8-dc0a-d4336e0ac9dc"
   },
   "outputs": [
    {
     "name": "stdout",
     "output_type": "stream",
     "text": [
      "3\n"
     ]
    }
   ],
   "source": [
    "a='cat'\n",
    "print(len(a))"
   ]
  },
  {
   "cell_type": "code",
   "execution_count": 10,
   "metadata": {
    "id": "FA7j-vYyRLFo",
    "outputId": "c5086d14-9b87-4910-d381-615cf4c06805"
   },
   "outputs": [
    {
     "name": "stdout",
     "output_type": "stream",
     "text": [
      "*** Introductory Examples for the NLTK Book ***\n",
      "Loading text1, ..., text9 and sent1, ..., sent9\n",
      "Type the name of the text or sentence to view it.\n",
      "Type: 'texts()' or 'sents()' to list the materials.\n",
      "text1: Moby Dick by Herman Melville 1851\n",
      "text2: Sense and Sensibility by Jane Austen 1811\n",
      "text3: The Book of Genesis\n",
      "text4: Inaugural Address Corpus\n",
      "text5: Chat Corpus\n",
      "text6: Monty Python and the Holy Grail\n",
      "text7: Wall Street Journal\n",
      "text8: Personals Corpus\n",
      "text9: The Man Who Was Thursday by G . K . Chesterton 1908\n",
      "0.06556530042314962\n",
      "1392\n"
     ]
    }
   ],
   "source": [
    "from nltk.book import text4 \n",
    "print(len(set(text4))/len(text4)) # lexical diversity\n",
    "long_words=[w for w in set(text4) if len(w)>10] \n",
    "print(len(long_words)) # number of big words"
   ]
  },
  {
   "cell_type": "markdown",
   "metadata": {
    "id": "angszVm8RLFo"
   },
   "source": [
    "### 2.2 Tokenization & Word distributions"
   ]
  },
  {
   "cell_type": "code",
   "execution_count": 11,
   "metadata": {
    "id": "vjB_LVcZRLFp",
    "outputId": "49de7698-9611-4edc-980e-5d8bd2aea1e0"
   },
   "outputs": [
    {
     "name": "stdout",
     "output_type": "stream",
     "text": [
      "['This is a cat.', 'That is a dog.']\n"
     ]
    },
    {
     "data": {
      "image/png": "[encoded data removed]",
      "text/plain": [
       "<Figure size 432x288 with 1 Axes>"
      ]
     },
     "metadata": {
      "needs_background": "light"
     },
     "output_type": "display_data"
    },
    {
     "data": {
      "image/png": "[encoded data removed]",
      "text/plain": [
       "<Figure size 432x288 with 1 Axes>"
      ]
     },
     "metadata": {
      "needs_background": "light"
     },
     "output_type": "display_data"
    },
    {
     "name": "stdout",
     "output_type": "stream",
     "text": [
      "180\n",
      "['of', 'the', 'and', 'to', 'have', 'that', 'which', 'by', ',', '.', 'a', 'in', 'it', 'be', 'is', 'for', 'our', 'we']\n"
     ]
    }
   ],
   "source": [
    "import nltk\n",
    "mytxt='This is a cat. That is a dog.'\n",
    "print(nltk.sent_tokenize(mytxt))\n",
    "text=nltk.Text(nltk.word_tokenize(mytxt))\n",
    "text.plot()\n",
    "text4.dispersion_plot(['democracy','freedom','duties'])\n",
    "dist=nltk.FreqDist(text4)\n",
    "print(dist['freedom'])\n",
    "print([w for w in dist.keys() if dist[w]>1000])"
   ]
  },
  {
   "cell_type": "markdown",
   "metadata": {
    "id": "2oOniVT-RLFp"
   },
   "source": [
    "### 2.3 Term Frequency–Inverse Document Frequency (TF-IDF)"
   ]
  },
  {
   "cell_type": "markdown",
   "metadata": {
    "id": "uHcx7YllRLFq"
   },
   "source": [
    "#### 2.3.1 Functions"
   ]
  },
  {
   "cell_type": "code",
   "execution_count": 12,
   "metadata": {
    "id": "iJeBezMfRLFq"
   },
   "outputs": [],
   "source": [
    "import math\n",
    "def tf(word, count): #count是一個word count的dictionary\n",
    "    return count[word] / sum(count.values())\n",
    "def nDoc_have(word, count_list):\n",
    "    return sum(1 for count in count_list if word in count)\n",
    "def idf(word, count_list):\n",
    "    return math.log(len(count_list)) / (1 + nDoc_have(word, count_list))\n",
    "def tfidf(word, count, count_list):\n",
    "    return tf(word, count) * idf(word, count_list)"
   ]
  },
  {
   "cell_type": "markdown",
   "metadata": {
    "id": "0PN1vnl_RLFr"
   },
   "source": [
    "#### 2.3.2 Testing data"
   ]
  },
  {
   "cell_type": "code",
   "execution_count": 13,
   "metadata": {
    "id": "k6lmW8AcRLFr",
    "outputId": "96a31d28-3d66-44e8-af12-ffbd6b7cb2f2"
   },
   "outputs": [
    {
     "name": "stdout",
     "output_type": "stream",
     "text": [
      "[{'a': 2, 'b': 1, 'c': 1, 'd': 1}, {'a': 1, 'b': 2, 'c': 1, 'd': 1}, {'a': 1, 'b': 1, 'c': 2, 'd': 1}]\n"
     ]
    }
   ],
   "source": [
    "doc=['']*3\n",
    "doc[0]=['a','a','b','c','d']\n",
    "doc[1]=['a','b','b','c','d']\n",
    "doc[2]=['a','b','c','c','d']\n",
    "\n",
    "#construct word counts:\n",
    "count = [{}, {}, {}]\n",
    "\n",
    "for d in range(3):\n",
    "    for word in doc[d]:\n",
    "        if word not in count[d]:\n",
    "            count[d][word]=1\n",
    "        else:\n",
    "            count[d][word]+=1\n",
    "            \n",
    "print(count)"
   ]
  },
  {
   "cell_type": "markdown",
   "metadata": {
    "id": "lqBfBxiiRLFs"
   },
   "source": [
    "#### 2.3.3 TF-IDF"
   ]
  },
  {
   "cell_type": "code",
   "execution_count": 14,
   "metadata": {
    "id": "3Hf1rREVRLFs",
    "outputId": "b8842986-2a32-4816-a43a-981627ff4fc7"
   },
   "outputs": [
    {
     "name": "stdout",
     "output_type": "stream",
     "text": [
      "0.10986122886681099\n"
     ]
    }
   ],
   "source": [
    "print(tfidf('a',count[0],count)) # \"a\" in the first document"
   ]
  },
  {
   "cell_type": "code",
   "execution_count": 15,
   "metadata": {
    "id": "QSEtUGsKRLFs",
    "outputId": "c209bb92-5f85-475d-ec98-17f8f03c8d4d"
   },
   "outputs": [
    {
     "name": "stdout",
     "output_type": "stream",
     "text": [
      "Top words in document 1\n",
      "\tWord: a, TF-IDF: 0.10986\n",
      "\tWord: b, TF-IDF: 0.05493\n",
      "\tWord: c, TF-IDF: 0.05493\n",
      "Top words in document 2\n",
      "\tWord: b, TF-IDF: 0.10986\n",
      "\tWord: a, TF-IDF: 0.05493\n",
      "\tWord: c, TF-IDF: 0.05493\n",
      "Top words in document 3\n",
      "\tWord: c, TF-IDF: 0.10986\n",
      "\tWord: a, TF-IDF: 0.05493\n",
      "\tWord: b, TF-IDF: 0.05493\n"
     ]
    }
   ],
   "source": [
    "#print the tf-idf of each word in each documetes\n",
    "keywords=[]\n",
    "for d in range(3):\n",
    "    print(\"Top words in document {}\".format(d+1))\n",
    "    scores={word: tfidf(word,count[d],count) for word in count[d]}\n",
    "    sorted_words=sorted(scores.items(),key=lambda x:x[1],reverse=True)\n",
    "    for word, score in sorted_words[:3]:\n",
    "        print(\"\\tWord: {}, TF-IDF: {}\".format(word,round(score,5)))\n",
    "        #create a list of keywords:\n",
    "        keywords+=word"
   ]
  },
  {
   "cell_type": "markdown",
   "metadata": {
    "id": "5cbFj4WDRLFt"
   },
   "source": [
    "#### 2.3.4 TF-IDF-based document vectors"
   ]
  },
  {
   "cell_type": "code",
   "execution_count": 16,
   "metadata": {
    "id": "bgja6xW3RLFt",
    "outputId": "d617aa69-1b91-45c0-fa04-f4febd2c6226"
   },
   "outputs": [
    {
     "name": "stdout",
     "output_type": "stream",
     "text": [
      "['b', 'c', 'a']\n",
      "[[0.054930614433405495, 0.054930614433405495, 0.10986122886681099], [0.10986122886681099, 0.054930614433405495, 0.054930614433405495], [0.054930614433405495, 0.10986122886681099, 0.054930614433405495]]\n"
     ]
    }
   ],
   "source": [
    "keywords=list(set(keywords)) #remove duplicates\n",
    "print(keywords)\n",
    "\n",
    "#create a feature vector for each document:\n",
    "fv=['']*3\n",
    "for d in range(3):\n",
    "    idx=0 #feature index\n",
    "    fv[d]=[tfidf(word,count[d],count) for word in keywords]\n",
    "print(fv)"
   ]
  },
  {
   "cell_type": "markdown",
   "metadata": {
    "id": "-YOPRP78RLFu"
   },
   "source": [
    "### 2.4 Chinese \"word\" segementation"
   ]
  },
  {
   "cell_type": "code",
   "execution_count": 17,
   "metadata": {
    "id": "KF4aTZwQRLFu",
    "outputId": "64eaaaa2-8c7e-482b-9b2e-48d6ba7741a8"
   },
   "outputs": [
    {
     "name": "stderr",
     "output_type": "stream",
     "text": [
      "Building prefix dict from the default dictionary ...\n",
      "Dumping model to file cache C:\\Users\\vince\\AppData\\Local\\Temp\\jieba.cache\n",
      "Loading model cost 2.377 seconds.\n",
      "Prefix dict has been built successfully.\n"
     ]
    },
    {
     "name": "stdout",
     "output_type": "stream",
     "text": [
      "結巴|到底|會不會|成功|地|分解|這行|字|呢|?\n",
      "結|巴|到底|會|不|會|成功|地|分解|這|行|字|呢|?\n"
     ]
    }
   ],
   "source": [
    "#!pip install jieba\n",
    "import jieba\n",
    "text='結巴到底會不會成功地分解這行字呢?'\n",
    "wordlist=jieba.cut(text,cut_all=False)\n",
    "print(\"|\".join(wordlist))\n",
    "wordlist=jieba.cut(text,cut_all=True)\n",
    "print(\"|\".join(wordlist))"
   ]
  },
  {
   "cell_type": "markdown",
   "metadata": {
    "id": "eBgjyerrRLFv"
   },
   "source": [
    "### 2.5 Topic Modeling"
   ]
  },
  {
   "cell_type": "markdown",
   "metadata": {
    "id": "BfeR6REVRLFv"
   },
   "source": [
    "#### 2.5.0 Word ID & Dictionary"
   ]
  },
  {
   "cell_type": "code",
   "execution_count": 1,
   "metadata": {
    "id": "DvMrVC6JRLFv",
    "outputId": "537caae6-3b65-42ce-bee5-af0f35686c01"
   },
   "outputs": [
    {
     "name": "stdout",
     "output_type": "stream",
     "text": [
      "Dictionary(253854 unique tokens: ['a', 'abacus', 'abilities', 'ability', 'able']...)\n"
     ]
    }
   ],
   "source": [
    "import gensim\n",
    "import gensim.downloader as api\n",
    "corpus=api.load('text8')\n",
    "dictionary=gensim.corpora.Dictionary(corpus) # generate a dictionary from the text corpus\n",
    "print(dictionary)"
   ]
  },
  {
   "cell_type": "code",
   "execution_count": 2,
   "metadata": {
    "id": "ktUK5dnkRLFw",
    "outputId": "622a9a66-4a2d-4071-9d7e-0e505a3794e2"
   },
   "outputs": [
    {
     "name": "stdout",
     "output_type": "stream",
     "text": [
      "[(0, 1), (1, 1), (2, 1), (3, 1)]\n"
     ]
    }
   ],
   "source": [
    "print(dictionary.doc2bow(['a', 'abacus', 'abilities', 'ability']))\n",
    "corpus2=[dictionary.doc2bow(word) for word in corpus]"
   ]
  },
  {
   "cell_type": "markdown",
   "metadata": {
    "id": "PJnsEH-6RLFw"
   },
   "source": [
    "#### 2.5.1 Latent Dirichlet Allocation (LDA)"
   ]
  },
  {
   "cell_type": "code",
   "execution_count": 20,
   "metadata": {
    "id": "Y4nPToHiRLFx"
   },
   "outputs": [],
   "source": [
    "model=gensim.models.ldamodel.LdaModel(corpus2, num_topics=5, id2word=dictionary) #LDA training"
   ]
  },
  {
   "cell_type": "code",
   "execution_count": 21,
   "metadata": {
    "id": "4ettMkeNRLFx",
    "outputId": "9bff5e3f-7306-420b-a67f-89a0b9998e69"
   },
   "outputs": [
    {
     "data": {
      "text/plain": [
       "[(0, '0.059*\"the\" + 0.037*\"of\" + 0.032*\"one\" + 0.027*\"and\" + 0.021*\"in\"'),\n",
       " (1, '0.075*\"the\" + 0.033*\"of\" + 0.024*\"and\" + 0.022*\"in\" + 0.022*\"to\"'),\n",
       " (2, '0.069*\"the\" + 0.030*\"of\" + 0.022*\"in\" + 0.022*\"to\" + 0.020*\"one\"'),\n",
       " (3, '0.050*\"the\" + 0.038*\"of\" + 0.027*\"in\" + 0.023*\"one\" + 0.021*\"to\"'),\n",
       " (4, '0.047*\"the\" + 0.033*\"of\" + 0.026*\"and\" + 0.025*\"one\" + 0.020*\"a\"')]"
      ]
     },
     "execution_count": 21,
     "metadata": {},
     "output_type": "execute_result"
    }
   ],
   "source": [
    "model.print_topics(num_words=5)"
   ]
  },
  {
   "cell_type": "markdown",
   "metadata": {
    "id": "yICGebirRLFx"
   },
   "source": [
    "## 3 Modern Natural Language Processing (NLP)"
   ]
  },
  {
   "cell_type": "markdown",
   "metadata": {
    "id": "YQBW71p2RLFy"
   },
   "source": [
    "### 3.1 Word2Vec\n",
    "Check <a href=\"https://github.com/RaRe-Technologies/gensim-data\">this</a> & <a href=\"https://github.com/3Top/word2vec-api#where-to-get-a-pretrained-models\">this</a> for more text datasets & pretained models."
   ]
  },
  {
   "cell_type": "markdown",
   "metadata": {
    "id": "DRY1cTAHRLFy"
   },
   "source": [
    "#### 3.1.0 Train a model"
   ]
  },
  {
   "cell_type": "code",
   "execution_count": 22,
   "metadata": {
    "id": "jWUWkke6RLFy"
   },
   "outputs": [],
   "source": [
    "import gensim\n",
    "import gensim.downloader as api\n",
    "corpus=api.load('text8')"
   ]
  },
  {
   "cell_type": "code",
   "execution_count": null,
   "metadata": {
    "id": "719eLk5MRLFz"
   },
   "outputs": [],
   "source": [
    "model = gensim.models.word2vec.Word2Vec(corpus) # training"
   ]
  },
  {
   "cell_type": "code",
   "execution_count": null,
   "metadata": {
    "id": "y9LW4tWLRLFz",
    "outputId": "b3a6f445-cff0-4e26-8aaa-d2f4d0256873"
   },
   "outputs": [],
   "source": [
    "model.wv.most_similar(\"car\") # testing"
   ]
  },
  {
   "cell_type": "markdown",
   "metadata": {
    "id": "rNQFqQNKRLFz"
   },
   "source": [
    "#### 3.1.1 Man:King :: Woman:?"
   ]
  },
  {
   "cell_type": "code",
   "execution_count": null,
   "metadata": {
    "id": "9XcMiz_fRLFz",
    "outputId": "02fac641-8c88-4756-e972-299fb3e76ab8"
   },
   "outputs": [],
   "source": [
    "model.wv.most_similar(positive=['woman', 'king'], negative=['man'])"
   ]
  },
  {
   "cell_type": "markdown",
   "metadata": {
    "id": "24JotAD6RLF0"
   },
   "source": [
    "#### 2.6.2 Man:Doctor :: Woman:?"
   ]
  },
  {
   "cell_type": "code",
   "execution_count": null,
   "metadata": {
    "id": "5WBbYnYMRLF0",
    "outputId": "5330d771-0a5f-4d01-d212-661a08270534"
   },
   "outputs": [],
   "source": [
    "model.wv.most_similar(positive=['woman', 'doctor'], negative=['man'])"
   ]
  },
  {
   "cell_type": "markdown",
   "metadata": {
    "id": "aEbzUhe1RLF0"
   },
   "source": [
    "#### 2.6.3 (Good + Best)/2 = Better ?"
   ]
  },
  {
   "cell_type": "code",
   "execution_count": null,
   "metadata": {
    "id": "hvuD32HZRLF1",
    "outputId": "514da8f5-66e1-477e-c18b-1b228a696a80"
   },
   "outputs": [],
   "source": [
    "model.wv.word_vec('Good')"
   ]
  },
  {
   "cell_type": "code",
   "execution_count": null,
   "metadata": {
    "id": "JARtygm_RLF1"
   },
   "outputs": [],
   "source": [
    "what=(model.wv.word_vec('good')+model.wv.word_vec('best'))/2"
   ]
  },
  {
   "cell_type": "code",
   "execution_count": null,
   "metadata": {
    "id": "ER39HStnRLF1",
    "outputId": "f9d90176-fd8b-421e-a11c-e5c481b96f94"
   },
   "outputs": [],
   "source": [
    "model.wv.similar_by_vector(what)"
   ]
  },
  {
   "cell_type": "code",
   "execution_count": null,
   "metadata": {
    "id": "K3O8lxodRLF2",
    "outputId": "b320330c-3487-4336-97d2-da64d8aa558c"
   },
   "outputs": [],
   "source": [
    "model.wv.most_similar(positive=['good', 'best'])"
   ]
  },
  {
   "cell_type": "markdown",
   "metadata": {
    "id": "H735xwD2RLF2"
   },
   "source": [
    "### 3.1 Sentence/Document Vector"
   ]
  },
  {
   "cell_type": "code",
   "execution_count": null,
   "metadata": {
    "id": "bVK9dTSxRLF2"
   },
   "outputs": [],
   "source": [
    "# !pip install spacy\n",
    "# !python -m spacy download en_core_web_sm\n",
    "import spacy"
   ]
  },
  {
   "cell_type": "code",
   "execution_count": null,
   "metadata": {
    "id": "o-BigQZsRLF3"
   },
   "outputs": [],
   "source": [
    "# Load English tokenizer, tagger, parser and NER\n",
    "import en_core_web_sm\n",
    "nlp = en_core_web_sm.load()\n",
    "\n",
    "# Process whole documents\n",
    "doc1 = nlp(\"I love leehom!\")\n",
    "doc2 = nlp(\"I like leehom!\")\n",
    "doc3 = nlp(\"I hate leehom!\")"
   ]
  },
  {
   "cell_type": "code",
   "execution_count": null,
   "metadata": {
    "colab": {
     "base_uri": "https://localhost:8080/"
    },
    "id": "4sp3q8USRLF3",
    "outputId": "0715afa2-5226-4783-ecd2-2b6982a60e09"
   },
   "outputs": [],
   "source": [
    "print(doc1.vector.shape)\n",
    "print(doc1.vector)"
   ]
  },
  {
   "cell_type": "code",
   "execution_count": null,
   "metadata": {
    "colab": {
     "base_uri": "https://localhost:8080/"
    },
    "id": "r_J2o-VvRLF3",
    "outputId": "3e4f628e-f67a-49d9-e97e-d7721e0c3dfe"
   },
   "outputs": [],
   "source": [
    "print(doc1.similarity(doc2))\n",
    "print(doc1.similarity(doc3))"
   ]
  },
  {
   "cell_type": "markdown",
   "metadata": {
    "id": "2vzzBsdERLF4"
   },
   "source": [
    "## 4 ChatBots"
   ]
  },
  {
   "cell_type": "markdown",
   "metadata": {
    "id": "boZNTidSRLF4"
   },
   "source": [
    "### 4.1 FrontEnd: Facebook Messengers"
   ]
  },
  {
   "cell_type": "code",
   "execution_count": null,
   "metadata": {
    "id": "3MX4WwH0RLF4"
   },
   "outputs": [],
   "source": [
    "#!pip install fbchat\n",
    "from fbchat import log, Client\n",
    "from fbchat.models import *\n",
    "from getpass import getpass "
   ]
  },
  {
   "cell_type": "code",
   "execution_count": null,
   "metadata": {
    "id": "ctRmfQ7FRLF4",
    "outputId": "3b48a200-5245-44aa-e5fb-0ab3d6233e0f"
   },
   "outputs": [],
   "source": [
    "# Example 1: Send a \"Hi\" to yourself\n",
    "client = Client(input(\"Email: \"), getpass('Password:')) \n",
    "print('Own id: {}'.format(client.uid))\n",
    "client.send(Message(text='Hi!'), thread_id=client.uid, thread_type=ThreadType.USER)\n",
    "client.logout()"
   ]
  },
  {
   "cell_type": "code",
   "execution_count": null,
   "metadata": {
    "id": "ajbrWgSJRLF5"
   },
   "outputs": [],
   "source": [
    "# Example 2 - EchoBot\n",
    "\n",
    "class EchoBot(Client):\n",
    "    def onMessage(self, author_id, message_object, thread_id, thread_type, **kwargs):\n",
    "        self.markAsDelivered(thread_id, message_object.uid)\n",
    "        self.markAsRead(thread_id)\n",
    "\n",
    "        log.info(\"{} from {} in {}\".format(message_object, thread_id, thread_type.name))\n",
    "        if(message_object.text=='hi'):\n",
    "            client.send(Message(text='Yes!'), thread_id=self.uid, thread_type=ThreadType.USER)\n",
    "        # If you're not the author, echo\n",
    "        if author_id != self.uid:\n",
    "            self.send(message_object, thread_id=thread_id, thread_type=thread_type)\n",
    "\n",
    "client = EchoBot(input(\"Email: \"), getpass('Password:')) \n",
    "client.listen()"
   ]
  },
  {
   "cell_type": "markdown",
   "metadata": {
    "id": "83cYWYATRLF5"
   },
   "source": [
    "### 4.2 BackEnd"
   ]
  },
  {
   "cell_type": "markdown",
   "metadata": {
    "id": "B5H5D5FMRLF5"
   },
   "source": [
    "#### 4.2.1 ChatterBot: Write your own QAs"
   ]
  },
  {
   "cell_type": "code",
   "execution_count": null,
   "metadata": {
    "id": "VdpwdHgaRLF6"
   },
   "outputs": [],
   "source": [
    "#!pip install chatterbot chatterbot_corpus\n",
    "#!python -m spacy link en_core_web_sm en\n",
    "import chatterbot\n",
    "from chatterbot import ChatBot\n",
    "from chatterbot.trainers import ListTrainer"
   ]
  },
  {
   "cell_type": "code",
   "execution_count": null,
   "metadata": {
    "colab": {
     "base_uri": "https://localhost:8080/"
    },
    "id": "Ont0Dky6RLF6",
    "outputId": "62c2ee5b-a007-43b2-c44f-ea37393a3f01"
   },
   "outputs": [],
   "source": [
    "chatbot = ChatBot(\"Psychoinformatics\")\n",
    "\n",
    "conversation = [\n",
    "    \"Hello\",\n",
    "    \"Hi there!\",\n",
    "    \"How are you doing?\",\n",
    "    \"I'm doing great.\",\n",
    "    \"That is good to hear\",\n",
    "    \"Thank you.\",\n",
    "    \"You're welcome.\",\n",
    "    \"帥喔!\",\n",
    "    \"帥只有一個字，卻跟了我一輩子~\"\n",
    "]\n",
    "\n",
    "trainer = ListTrainer(chatbot)\n",
    "\n",
    "trainer.train(conversation)"
   ]
  },
  {
   "cell_type": "code",
   "execution_count": null,
   "metadata": {
    "colab": {
     "base_uri": "https://localhost:8080/"
    },
    "id": "bR6UBv_zRLF6",
    "outputId": "8e076abd-52ba-4d96-f34f-202c468d2bf7"
   },
   "outputs": [],
   "source": [
    "print(chatbot.get_response(\"Hi there\"))\n",
    "print(chatbot.get_response(\"帥喔!\"))"
   ]
  },
  {
   "cell_type": "code",
   "execution_count": null,
   "metadata": {
    "id": "djlm9V0PSU2G"
   },
   "outputs": [],
   "source": []
  }
 ],
 "metadata": {
  "colab": {
   "collapsed_sections": [
    "uHcx7YllRLFq",
    "0PN1vnl_RLFr",
    "lqBfBxiiRLFs",
    "5cbFj4WDRLFt",
    "BfeR6REVRLFv",
    "PJnsEH-6RLFw",
    "DRY1cTAHRLFy",
    "rNQFqQNKRLFz",
    "24JotAD6RLF0",
    "aEbzUhe1RLF0"
   ],
   "name": "13_examples.ipynb",
   "provenance": []
  },
  "kernelspec": {
   "display_name": "PsychoInformatics",
   "language": "python",
   "name": "psychoinformatics"
  },
  "language_info": {
   "codemirror_mode": {
    "name": "ipython",
    "version": 3
   },
   "file_extension": ".py",
   "mimetype": "text/x-python",
   "name": "python",
   "nbconvert_exporter": "python",
   "pygments_lexer": "ipython3",
   "version": "3.9.7"
  },
  "varInspector": {
   "cols": {
    "lenName": 16,
    "lenType": 16,
    "lenVar": 40
   },
   "kernels_config": {
    "python": {
     "delete_cmd_postfix": "",
     "delete_cmd_prefix": "del ",
     "library": "var_list.py",
     "varRefreshCmd": "print(var_dic_list())"
    },
    "r": {
     "delete_cmd_postfix": ") ",
     "delete_cmd_prefix": "rm(",
     "library": "var_list.r",
     "varRefreshCmd": "cat(var_dic_list()) "
    }
   },
   "types_to_exclude": [
    "module",
    "function",
    "builtin_function_or_method",
    "instance",
    "_Feature"
   ],
   "window_display": false
  }
 },
 "nbformat": 4,
 "nbformat_minor": 1
}
